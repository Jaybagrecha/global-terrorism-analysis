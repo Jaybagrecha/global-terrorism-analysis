{
 "cells": [
  {
   "cell_type": "code",
   "execution_count": 1,
   "metadata": {},
   "outputs": [],
   "source": [
    "import numpy as np\n",
    "import pandas as pd\n",
    "from scipy import stats, integrate\n",
    "import matplotlib.pyplot as plt\n",
    "import seaborn as sns\n",
    "import plotly.plotly as py\n",
    "from plotly.offline import download_plotlyjs, init_notebook_mode, plot, iplot\n",
    "\n",
    "from ipywidgets import widgets\n",
    "from IPython.display import display\n",
    "import plotly.graph_objs as go\n",
    "from plotly.widgets import GraphWidget\n",
    "import plotly.tools as tls"
   ]
  },
  {
   "cell_type": "code",
   "execution_count": 2,
   "metadata": {},
   "outputs": [
    {
     "name": "stderr",
     "output_type": "stream",
     "text": [
      "/Users/princegrover/anaconda3/lib/python3.6/site-packages/IPython/core/interactiveshell.py:2728: DtypeWarning: Columns (4,6,31,33,53,61,62,63,76,79,90,92,94,96,114,115,121) have mixed types. Specify dtype option on import or set low_memory=False.\n",
      "  interactivity=interactivity, compiler=compiler, result=result)\n"
     ]
    },
    {
     "data": {
      "text/html": [
       "<div>\n",
       "<style scoped>\n",
       "    .dataframe tbody tr th:only-of-type {\n",
       "        vertical-align: middle;\n",
       "    }\n",
       "\n",
       "    .dataframe tbody tr th {\n",
       "        vertical-align: top;\n",
       "    }\n",
       "\n",
       "    .dataframe thead th {\n",
       "        text-align: right;\n",
       "    }\n",
       "</style>\n",
       "<table border=\"1\" class=\"dataframe\">\n",
       "  <thead>\n",
       "    <tr style=\"text-align: right;\">\n",
       "      <th></th>\n",
       "      <th>Year</th>\n",
       "      <th>Month</th>\n",
       "      <th>Day</th>\n",
       "      <th>Country</th>\n",
       "      <th>Region</th>\n",
       "      <th>city</th>\n",
       "      <th>latitude</th>\n",
       "      <th>longitude</th>\n",
       "      <th>AttackType</th>\n",
       "      <th>Killed</th>\n",
       "      <th>Wounded</th>\n",
       "      <th>Group</th>\n",
       "      <th>casualities</th>\n",
       "    </tr>\n",
       "  </thead>\n",
       "  <tbody>\n",
       "    <tr>\n",
       "      <th>0</th>\n",
       "      <td>1970</td>\n",
       "      <td>7</td>\n",
       "      <td>2</td>\n",
       "      <td>Dominican Republic</td>\n",
       "      <td>Central America &amp; Caribbean</td>\n",
       "      <td>Santo Domingo</td>\n",
       "      <td>18.456792</td>\n",
       "      <td>-69.951164</td>\n",
       "      <td>Assassination</td>\n",
       "      <td>1.0</td>\n",
       "      <td>0.0</td>\n",
       "      <td>MANO-D</td>\n",
       "      <td>1.0</td>\n",
       "    </tr>\n",
       "    <tr>\n",
       "      <th>1</th>\n",
       "      <td>1970</td>\n",
       "      <td>0</td>\n",
       "      <td>0</td>\n",
       "      <td>Mexico</td>\n",
       "      <td>North America</td>\n",
       "      <td>Mexico city</td>\n",
       "      <td>19.432608</td>\n",
       "      <td>-99.133207</td>\n",
       "      <td>Hostage Taking (Kidnapping)</td>\n",
       "      <td>0.0</td>\n",
       "      <td>0.0</td>\n",
       "      <td>23rd of September Communist League</td>\n",
       "      <td>0.0</td>\n",
       "    </tr>\n",
       "    <tr>\n",
       "      <th>2</th>\n",
       "      <td>1970</td>\n",
       "      <td>1</td>\n",
       "      <td>0</td>\n",
       "      <td>Philippines</td>\n",
       "      <td>Southeast Asia</td>\n",
       "      <td>Unknown</td>\n",
       "      <td>15.478598</td>\n",
       "      <td>120.599741</td>\n",
       "      <td>Assassination</td>\n",
       "      <td>1.0</td>\n",
       "      <td>0.0</td>\n",
       "      <td>Unknown</td>\n",
       "      <td>1.0</td>\n",
       "    </tr>\n",
       "  </tbody>\n",
       "</table>\n",
       "</div>"
      ],
      "text/plain": [
       "   Year  Month  Day             Country                       Region  \\\n",
       "0  1970      7    2  Dominican Republic  Central America & Caribbean   \n",
       "1  1970      0    0              Mexico                North America   \n",
       "2  1970      1    0         Philippines               Southeast Asia   \n",
       "\n",
       "            city   latitude   longitude                   AttackType  Killed  \\\n",
       "0  Santo Domingo  18.456792  -69.951164                Assassination     1.0   \n",
       "1    Mexico city  19.432608  -99.133207  Hostage Taking (Kidnapping)     0.0   \n",
       "2        Unknown  15.478598  120.599741                Assassination     1.0   \n",
       "\n",
       "   Wounded                               Group  casualities  \n",
       "0      0.0                              MANO-D          1.0  \n",
       "1      0.0  23rd of September Communist League          0.0  \n",
       "2      0.0                             Unknown          1.0  "
      ]
     },
     "execution_count": 2,
     "metadata": {},
     "output_type": "execute_result"
    }
   ],
   "source": [
    "terror=pd.read_csv('globalterrorismdb_0617dist.csv',encoding='ISO-8859-1')\n",
    "\n",
    "# renaming to give better names\n",
    "terror.rename(columns={'iyear':'Year','imonth':'Month','iday':'Day','country_txt':'Country','region_txt':'Region','attacktype1_txt':'AttackType','target1':'Target','nkill':'Killed','nwound':'Wounded','summary':'Summary','gname':'Group','targtype1_txt':'Target_type','weaptype1_txt':'Weapon_type','motive':'Motive'},inplace=True)\n",
    "\n",
    "# subset required columns\n",
    "terror=terror[['Year','Month','Day','Country','Region','city','latitude','longitude','AttackType','Killed','Wounded','Group']]\n",
    "\n",
    "# adding casualities \n",
    "terror['casualities']=terror['Killed']+terror['Wounded']\n",
    "\n",
    "terror.head(3)"
   ]
  },
  {
   "cell_type": "code",
   "execution_count": 3,
   "metadata": {},
   "outputs": [],
   "source": [
    "terror.dropna(inplace=True)"
   ]
  },
  {
   "cell_type": "code",
   "execution_count": 4,
   "metadata": {},
   "outputs": [
    {
     "data": {
      "text/plain": [
       "(150159, 13)"
      ]
     },
     "execution_count": 4,
     "metadata": {},
     "output_type": "execute_result"
    }
   ],
   "source": [
    "terror.shape"
   ]
  },
  {
   "cell_type": "code",
   "execution_count": 5,
   "metadata": {},
   "outputs": [
    {
     "data": {
      "text/html": [
       "<div>\n",
       "<style scoped>\n",
       "    .dataframe tbody tr th:only-of-type {\n",
       "        vertical-align: middle;\n",
       "    }\n",
       "\n",
       "    .dataframe tbody tr th {\n",
       "        vertical-align: top;\n",
       "    }\n",
       "\n",
       "    .dataframe thead th {\n",
       "        text-align: right;\n",
       "    }\n",
       "</style>\n",
       "<table border=\"1\" class=\"dataframe\">\n",
       "  <thead>\n",
       "    <tr style=\"text-align: right;\">\n",
       "      <th></th>\n",
       "      <th>Year</th>\n",
       "      <th>Month</th>\n",
       "      <th>Day</th>\n",
       "      <th>Country</th>\n",
       "      <th>Region</th>\n",
       "      <th>city</th>\n",
       "      <th>latitude</th>\n",
       "      <th>longitude</th>\n",
       "      <th>AttackType</th>\n",
       "      <th>Killed</th>\n",
       "      <th>Wounded</th>\n",
       "      <th>Group</th>\n",
       "      <th>casualities</th>\n",
       "    </tr>\n",
       "  </thead>\n",
       "  <tbody>\n",
       "    <tr>\n",
       "      <th>0</th>\n",
       "      <td>1970</td>\n",
       "      <td>7</td>\n",
       "      <td>2</td>\n",
       "      <td>Dominican Republic</td>\n",
       "      <td>Central America &amp; Caribbean</td>\n",
       "      <td>Santo Domingo</td>\n",
       "      <td>18.456792</td>\n",
       "      <td>-69.951164</td>\n",
       "      <td>Assassination</td>\n",
       "      <td>1.0</td>\n",
       "      <td>0.0</td>\n",
       "      <td>MANO-D</td>\n",
       "      <td>1.0</td>\n",
       "    </tr>\n",
       "    <tr>\n",
       "      <th>1</th>\n",
       "      <td>1970</td>\n",
       "      <td>0</td>\n",
       "      <td>0</td>\n",
       "      <td>Mexico</td>\n",
       "      <td>North America</td>\n",
       "      <td>Mexico city</td>\n",
       "      <td>19.432608</td>\n",
       "      <td>-99.133207</td>\n",
       "      <td>Hostage Taking (Kidnapping)</td>\n",
       "      <td>0.0</td>\n",
       "      <td>0.0</td>\n",
       "      <td>23rd of September Communist League</td>\n",
       "      <td>0.0</td>\n",
       "    </tr>\n",
       "    <tr>\n",
       "      <th>2</th>\n",
       "      <td>1970</td>\n",
       "      <td>1</td>\n",
       "      <td>0</td>\n",
       "      <td>Philippines</td>\n",
       "      <td>Southeast Asia</td>\n",
       "      <td>Unknown</td>\n",
       "      <td>15.478598</td>\n",
       "      <td>120.599741</td>\n",
       "      <td>Assassination</td>\n",
       "      <td>1.0</td>\n",
       "      <td>0.0</td>\n",
       "      <td>Unknown</td>\n",
       "      <td>1.0</td>\n",
       "    </tr>\n",
       "    <tr>\n",
       "      <th>5</th>\n",
       "      <td>1970</td>\n",
       "      <td>1</td>\n",
       "      <td>1</td>\n",
       "      <td>United States</td>\n",
       "      <td>North America</td>\n",
       "      <td>Cairo</td>\n",
       "      <td>37.005105</td>\n",
       "      <td>-89.176269</td>\n",
       "      <td>Armed Assault</td>\n",
       "      <td>0.0</td>\n",
       "      <td>0.0</td>\n",
       "      <td>Black Nationalists</td>\n",
       "      <td>0.0</td>\n",
       "    </tr>\n",
       "    <tr>\n",
       "      <th>6</th>\n",
       "      <td>1970</td>\n",
       "      <td>1</td>\n",
       "      <td>2</td>\n",
       "      <td>Uruguay</td>\n",
       "      <td>South America</td>\n",
       "      <td>Montevideo</td>\n",
       "      <td>-34.891151</td>\n",
       "      <td>-56.187214</td>\n",
       "      <td>Assassination</td>\n",
       "      <td>0.0</td>\n",
       "      <td>0.0</td>\n",
       "      <td>Tupamaros (Uruguay)</td>\n",
       "      <td>0.0</td>\n",
       "    </tr>\n",
       "  </tbody>\n",
       "</table>\n",
       "</div>"
      ],
      "text/plain": [
       "   Year  Month  Day             Country                       Region  \\\n",
       "0  1970      7    2  Dominican Republic  Central America & Caribbean   \n",
       "1  1970      0    0              Mexico                North America   \n",
       "2  1970      1    0         Philippines               Southeast Asia   \n",
       "5  1970      1    1       United States                North America   \n",
       "6  1970      1    2             Uruguay                South America   \n",
       "\n",
       "            city   latitude   longitude                   AttackType  Killed  \\\n",
       "0  Santo Domingo  18.456792  -69.951164                Assassination     1.0   \n",
       "1    Mexico city  19.432608  -99.133207  Hostage Taking (Kidnapping)     0.0   \n",
       "2        Unknown  15.478598  120.599741                Assassination     1.0   \n",
       "5          Cairo  37.005105  -89.176269                Armed Assault     0.0   \n",
       "6     Montevideo -34.891151  -56.187214                Assassination     0.0   \n",
       "\n",
       "   Wounded                               Group  casualities  \n",
       "0      0.0                              MANO-D          1.0  \n",
       "1      0.0  23rd of September Communist League          0.0  \n",
       "2      0.0                             Unknown          1.0  \n",
       "5      0.0                  Black Nationalists          0.0  \n",
       "6      0.0                 Tupamaros (Uruguay)          0.0  "
      ]
     },
     "execution_count": 5,
     "metadata": {},
     "output_type": "execute_result"
    }
   ],
   "source": [
    "terror.head()"
   ]
  },
  {
   "cell_type": "markdown",
   "metadata": {},
   "source": [
    "### Total people killed in each country for each decade"
   ]
  },
  {
   "cell_type": "code",
   "execution_count": 43,
   "metadata": {},
   "outputs": [],
   "source": [
    "terror['Decade'] = (terror['Year']//10)*10"
   ]
  },
  {
   "cell_type": "code",
   "execution_count": 44,
   "metadata": {},
   "outputs": [
    {
     "data": {
      "text/plain": [
       "0    1970\n",
       "1    1970\n",
       "Name: Decade, dtype: int64"
      ]
     },
     "execution_count": 44,
     "metadata": {},
     "output_type": "execute_result"
    }
   ],
   "source": [
    "terror.Decade[:2]"
   ]
  },
  {
   "cell_type": "code",
   "execution_count": 61,
   "metadata": {},
   "outputs": [],
   "source": [
    "# first get top 20 countries in terms of number of killings\n",
    "\n",
    "top20killings = list(pd.DataFrame(terror.groupby(['Country']).sum()\n",
    "                  ['Killed'].sort_values(ascending=False))\n",
    "     [:20].reset_index()['Country'])"
   ]
  },
  {
   "cell_type": "code",
   "execution_count": 63,
   "metadata": {},
   "outputs": [],
   "source": [
    "terror_country_killings = pd.DataFrame(terror.groupby(['Country', 'Decade']).sum()['Killed'].reset_index())"
   ]
  },
  {
   "cell_type": "code",
   "execution_count": 68,
   "metadata": {},
   "outputs": [],
   "source": [
    "terror_country_killings20 = terror_country_killings[terror_country_killings.Country.isin(top20killings)]"
   ]
  },
  {
   "cell_type": "code",
   "execution_count": 71,
   "metadata": {},
   "outputs": [],
   "source": [
    "df_stack = terror_country_killings20.pivot(index='Country', columns = 'Decade', values = 'Killed')"
   ]
  },
  {
   "cell_type": "code",
   "execution_count": 72,
   "metadata": {},
   "outputs": [],
   "source": [
    "df_stack.fillna(value=0, inplace=True)"
   ]
  },
  {
   "cell_type": "code",
   "execution_count": 99,
   "metadata": {},
   "outputs": [
    {
     "data": {
      "image/png": "[encoded data removed]",
      "text/plain": [
       "<matplotlib.figure.Figure at 0x110de72e8>"
      ]
     },
     "metadata": {},
     "output_type": "display_data"
    }
   ],
   "source": [
    "sns.set_style('ticks')\n",
    "\n",
    "plt.figure(figsize=(12.5,7.5))\n",
    "\n",
    "# plot heatmap\n",
    "ax = sns.heatmap(df_stack.T,  cmap=\"OrRd\", cbar_kws={'label': '# Killings'})\n",
    "\n",
    "# turn the axis label\n",
    "for item in ax.get_yticklabels():\n",
    "    item.set_rotation(0)\n",
    "\n",
    "for item in ax.get_xticklabels():\n",
    "    item.set_rotation(90)\n",
    "\n",
    "# save figure\n",
    "plt.savefig('/Users/princegrover/Downloads/startbootstrap-creative-gh-pages_2/heatmap_ctr_dec.png')\n",
    "plt.show()"
   ]
  },
  {
   "cell_type": "markdown",
   "metadata": {},
   "source": [
    "### Distribution of casualities"
   ]
  },
  {
   "cell_type": "code",
   "execution_count": 112,
   "metadata": {},
   "outputs": [
    {
     "data": {
      "text/plain": [
       "Text(0.5,1,'Distribution of Casualities per attack ')"
      ]
     },
     "execution_count": 112,
     "metadata": {},
     "output_type": "execute_result"
    },
    {
     "data": {
      "image/png": "[encoded data removed]",
      "text/plain": [
       "<matplotlib.figure.Figure at 0x110380e10>"
      ]
     },
     "metadata": {},
     "output_type": "display_data"
    }
   ],
   "source": [
    "# plots a gaussian kernel density line also (smooth version of histogram)\n",
    "sns.set_style('ticks')\n",
    "plt.figure(figsize=(10, 5))\n",
    "ax = sns.distplot(terror[(terror.casualities < 2000) & (terror.casualities > 100) ]['casualities'])\n",
    "ax.set_title('Distribution of Casualities per attack ')"
   ]
  },
  {
   "cell_type": "code",
   "execution_count": 100,
   "metadata": {
    "scrolled": true
   },
   "outputs": [
    {
     "data": {
      "text/plain": [
       "<matplotlib.axes._subplots.AxesSubplot at 0x110f30390>"
      ]
     },
     "execution_count": 100,
     "metadata": {},
     "output_type": "execute_result"
    },
    {
     "data": {
      "image/png": "[encoded data removed]",
      "text/plain": [
       "<matplotlib.figure.Figure at 0x110f2cac8>"
      ]
     },
     "metadata": {},
     "output_type": "display_data"
    }
   ],
   "source": [
    "terror.casualities.hist()"
   ]
  },
  {
   "cell_type": "markdown",
   "metadata": {},
   "source": [
    "### Activities of terrorist groups over the years"
   ]
  },
  {
   "cell_type": "markdown",
   "metadata": {},
   "source": [
    "top 10 terrorist groups in each region in each year"
   ]
  },
  {
   "cell_type": "markdown",
   "metadata": {},
   "source": [
    "### Decade in dropdown"
   ]
  },
  {
   "cell_type": "code",
   "execution_count": 259,
   "metadata": {
    "scrolled": true
   },
   "outputs": [],
   "source": [
    "grp_dec = terror.groupby(['Group', 'Decade']).count()['Year'].reset_index()"
   ]
  },
  {
   "cell_type": "code",
   "execution_count": 260,
   "metadata": {},
   "outputs": [],
   "source": [
    "grp_dec.rename(columns={'Year': 'Attacks'}, inplace=True)"
   ]
  },
  {
   "cell_type": "code",
   "execution_count": 261,
   "metadata": {},
   "outputs": [
    {
     "data": {
      "text/html": [
       "<div>\n",
       "<style scoped>\n",
       "    .dataframe tbody tr th:only-of-type {\n",
       "        vertical-align: middle;\n",
       "    }\n",
       "\n",
       "    .dataframe tbody tr th {\n",
       "        vertical-align: top;\n",
       "    }\n",
       "\n",
       "    .dataframe thead th {\n",
       "        text-align: right;\n",
       "    }\n",
       "</style>\n",
       "<table border=\"1\" class=\"dataframe\">\n",
       "  <thead>\n",
       "    <tr style=\"text-align: right;\">\n",
       "      <th></th>\n",
       "      <th>Group</th>\n",
       "      <th>Decade</th>\n",
       "      <th>Attacks</th>\n",
       "    </tr>\n",
       "  </thead>\n",
       "  <tbody>\n",
       "    <tr>\n",
       "      <th>0</th>\n",
       "      <td>1 May</td>\n",
       "      <td>1980</td>\n",
       "      <td>3</td>\n",
       "    </tr>\n",
       "    <tr>\n",
       "      <th>1</th>\n",
       "      <td>1 May</td>\n",
       "      <td>1990</td>\n",
       "      <td>6</td>\n",
       "    </tr>\n",
       "  </tbody>\n",
       "</table>\n",
       "</div>"
      ],
      "text/plain": [
       "   Group  Decade  Attacks\n",
       "0  1 May    1980        3\n",
       "1  1 May    1990        6"
      ]
     },
     "execution_count": 261,
     "metadata": {},
     "output_type": "execute_result"
    }
   ],
   "source": [
    "grp_dec[:2]"
   ]
  },
  {
   "cell_type": "code",
   "execution_count": 306,
   "metadata": {},
   "outputs": [],
   "source": [
    "grp_dec = grp_dec[grp_dec.Group != 'Unknown']"
   ]
  },
  {
   "cell_type": "code",
   "execution_count": 307,
   "metadata": {
    "scrolled": true
   },
   "outputs": [
    {
     "data": {
      "text/plain": [
       "(4140, 3)"
      ]
     },
     "execution_count": 307,
     "metadata": {},
     "output_type": "execute_result"
    }
   ],
   "source": [
    "grp_dec.shape"
   ]
  },
  {
   "cell_type": "code",
   "execution_count": 333,
   "metadata": {},
   "outputs": [],
   "source": [
    "data = []\n",
    "for d in list(grp_dec.Decade.unique()):\n",
    "    filtered_grp_dec = grp_dec[grp_dec.Decade == d]\n",
    "    filtered_grp_dec = filtered_grp_dec.sort_values(by='Attacks', ascending=False)[:10]\n",
    "    data.append(go.Bar(y = filtered_grp_dec.Group, \n",
    "                       x = filtered_grp_dec.Attacks, \n",
    "                       orientation = 'h'))"
   ]
  },
  {
   "cell_type": "code",
   "execution_count": 334,
   "metadata": {},
   "outputs": [
    {
     "data": {
      "text/plain": [
       "5"
      ]
     },
     "execution_count": 334,
     "metadata": {},
     "output_type": "execute_result"
    }
   ],
   "source": [
    "len(data)"
   ]
  },
  {
   "cell_type": "code",
   "execution_count": 335,
   "metadata": {},
   "outputs": [
    {
     "name": "stdout",
     "output_type": "stream",
     "text": [
      "1980\n",
      "1990\n",
      "2000\n",
      "1970\n",
      "2010\n"
     ]
    }
   ],
   "source": [
    "for d in list(grp_dec.Decade.unique()):\n",
    "    print(d)"
   ]
  },
  {
   "cell_type": "code",
   "execution_count": 336,
   "metadata": {},
   "outputs": [],
   "source": [
    "updatemenus = list([\n",
    "    dict(active=-1,\n",
    "         x=-0.3,\n",
    "         buttons=list([  \n",
    "             \n",
    "            dict(\n",
    "                label = '1980s',\n",
    "                 method = 'update',\n",
    "                 args = [{'visible': [True, False, False, False, False, False]}, \n",
    "                     {'title': '10 Most Active Terrorist Groups in 1980s'}]),\n",
    "             \n",
    "             dict(\n",
    "                  label = '1990s',\n",
    "                 method = 'update',\n",
    "                 args = [{'visible': [False, True, False, False, False, False]},\n",
    "                     {'title': '10 Most Active Terrorist Groups in 1990s'}]),\n",
    "\n",
    "            dict(\n",
    "                 label = '2000s',\n",
    "                 method = 'update',\n",
    "                 args = [{'visible': [False, False, True, False, False, False]},\n",
    "                     {'title': '10 Most Active Terrorist Groups in 2000s'}]), \n",
    "             \n",
    "                         dict(\n",
    "                label = '1970s',\n",
    "                 method = 'update',\n",
    "                 args = [{'visible': [False, False, False, True, False, False]}, \n",
    "                     {'title': '10 Most Active Terrorist Groups in 1970s'}]),\n",
    "             \n",
    "             dict(\n",
    "                  label = '2010s',\n",
    "                 method = 'update',\n",
    "                 args = [{'visible': [False, False, False, False, True, False]},\n",
    "                     {'title': '10 Most Active Terrorist Groups in 2010s'}])\n",
    "        ]),\n",
    "    )\n",
    "])"
   ]
  },
  {
   "cell_type": "code",
   "execution_count": 343,
   "metadata": {
    "scrolled": false
   },
   "outputs": [
    {
     "data": {
      "text/plain": [
       "'file:///Users/princegrover/Documents/msan/data_viz/group_dec.html'"
      ]
     },
     "execution_count": 343,
     "metadata": {},
     "output_type": "execute_result"
    }
   ],
   "source": [
    "layout = dict(title='10 Most Active Terrorist Groups in Selected decade (Select from Dropdown)', showlegend=False,\n",
    "              updatemenus=updatemenus,\n",
    "              width=1100,\n",
    "              height=500, \n",
    "              xaxis=dict(title='Number of Attacks'))\n",
    "\n",
    "fig = dict(data=data, layout=layout)\n",
    "\n",
    "# py.plot(fig)\n",
    "plot(fig, filename='/Users/princegrover/Documents/msan/data_viz/group_dec.html' )"
   ]
  },
  {
   "cell_type": "markdown",
   "metadata": {},
   "source": [
    "### Region in dropdown"
   ]
  },
  {
   "cell_type": "code",
   "execution_count": 313,
   "metadata": {
    "scrolled": true
   },
   "outputs": [],
   "source": [
    "grp_reg = terror.groupby(['Group', 'Region']).count()['Year'].reset_index()"
   ]
  },
  {
   "cell_type": "code",
   "execution_count": 314,
   "metadata": {},
   "outputs": [],
   "source": [
    "grp_reg.rename(columns={'Year': 'Attacks'}, inplace=True)"
   ]
  },
  {
   "cell_type": "code",
   "execution_count": 315,
   "metadata": {},
   "outputs": [
    {
     "data": {
      "text/html": [
       "<div>\n",
       "<style scoped>\n",
       "    .dataframe tbody tr th:only-of-type {\n",
       "        vertical-align: middle;\n",
       "    }\n",
       "\n",
       "    .dataframe tbody tr th {\n",
       "        vertical-align: top;\n",
       "    }\n",
       "\n",
       "    .dataframe thead th {\n",
       "        text-align: right;\n",
       "    }\n",
       "</style>\n",
       "<table border=\"1\" class=\"dataframe\">\n",
       "  <thead>\n",
       "    <tr style=\"text-align: right;\">\n",
       "      <th></th>\n",
       "      <th>Group</th>\n",
       "      <th>Region</th>\n",
       "      <th>Attacks</th>\n",
       "    </tr>\n",
       "  </thead>\n",
       "  <tbody>\n",
       "    <tr>\n",
       "      <th>0</th>\n",
       "      <td>1 May</td>\n",
       "      <td>Western Europe</td>\n",
       "      <td>9</td>\n",
       "    </tr>\n",
       "    <tr>\n",
       "      <th>1</th>\n",
       "      <td>14 K Triad</td>\n",
       "      <td>East Asia</td>\n",
       "      <td>4</td>\n",
       "    </tr>\n",
       "  </tbody>\n",
       "</table>\n",
       "</div>"
      ],
      "text/plain": [
       "        Group          Region  Attacks\n",
       "0       1 May  Western Europe        9\n",
       "1  14 K Triad       East Asia        4"
      ]
     },
     "execution_count": 315,
     "metadata": {},
     "output_type": "execute_result"
    }
   ],
   "source": [
    "grp_reg[:2]"
   ]
  },
  {
   "cell_type": "code",
   "execution_count": 316,
   "metadata": {},
   "outputs": [],
   "source": [
    "grp_reg = grp_reg[grp_reg.Group != 'Unknown']"
   ]
  },
  {
   "cell_type": "code",
   "execution_count": 349,
   "metadata": {},
   "outputs": [],
   "source": [
    "data = []\n",
    "for d in list(grp_reg.Region.unique()):\n",
    "    filtered_grp_reg = grp_reg[grp_reg.Region == d]\n",
    "    filtered_grp_reg = filtered_grp_reg.sort_values(by='Attacks', ascending=False)[:10]\n",
    "    data.append(go.Bar(y = filtered_grp_reg.Group,\n",
    "                       x = filtered_grp_reg.Attacks,\n",
    "                       orientation = 'h'))"
   ]
  },
  {
   "cell_type": "code",
   "execution_count": 350,
   "metadata": {},
   "outputs": [
    {
     "data": {
      "text/plain": [
       "12"
      ]
     },
     "execution_count": 350,
     "metadata": {},
     "output_type": "execute_result"
    }
   ],
   "source": [
    "len(data)"
   ]
  },
  {
   "cell_type": "code",
   "execution_count": 351,
   "metadata": {},
   "outputs": [
    {
     "name": "stdout",
     "output_type": "stream",
     "text": [
      "Western Europe\n",
      "East Asia\n",
      "Middle East & North Africa\n",
      "South America\n",
      "Central America & Caribbean\n",
      "Sub-Saharan Africa\n",
      "North America\n",
      "Eastern Europe\n",
      "South Asia\n",
      "Southeast Asia\n",
      "Central Asia\n",
      "Australasia & Oceania\n"
     ]
    }
   ],
   "source": [
    "for d in list(grp_reg.Region.unique()):\n",
    "    print(d)"
   ]
  },
  {
   "cell_type": "code",
   "execution_count": 352,
   "metadata": {},
   "outputs": [],
   "source": [
    "updatemenus = list([\n",
    "    dict(active=-1,\n",
    "         x=-0.3,\n",
    "         buttons=list([  \n",
    "             \n",
    "            dict(\n",
    "                label = 'Western Europe',\n",
    "                 method = 'update',\n",
    "                 args = [{'visible': [True, False, False, False, False, False,\n",
    "                                     False, False, False, False, False, False]}, \n",
    "                     {'title': '10 Most Active Terrorist Groups in Western Europe'}]),\n",
    "             \n",
    "             dict(\n",
    "                  label = 'East Asia',\n",
    "                 method = 'update',\n",
    "                 args = [{'visible': [False, True, False, False, False, False, \n",
    "                                      False, False, False, False, False, False]},\n",
    "                     {'title': '10 Most Active Terrorist Groups in East Asia'}]),\n",
    "\n",
    "            dict(\n",
    "                 label = 'Middle East & North Africa',\n",
    "                 method = 'update',\n",
    "                 args = [{'visible': [False, False, True, False, False, False,\n",
    "                                      False, False, False, False, False, False]},\n",
    "                     {'title': '10 Most Active Terrorist Groups in Middle East & North Africa'}]), \n",
    "             \n",
    "                         dict(\n",
    "                label = 'South America',\n",
    "                 method = 'update',\n",
    "                 args = [{'visible': [False, False, False, True, False, False, \n",
    "                                      False, False, False, False, False, False]}, \n",
    "                     {'title': '10 Most Active Terrorist Groups in South America'}]),\n",
    "             \n",
    "             dict(\n",
    "                  label = 'Central America & Caribbean',\n",
    "                 method = 'update',\n",
    "                 args = [{'visible': [False, False, False, False, True, False, \n",
    "                                     False, False, False, False, False, False]},\n",
    "                     {'title': '10 Most Active Terrorist Groups in Central America & Caribbean'}]),\n",
    "                         dict(\n",
    "                label = 'Sub-Saharan Africa',\n",
    "                 method = 'update',\n",
    "                 args = [{'visible': [False, False, False, False, False, True,\n",
    "                                      False, False, False, False, False, False]}, \n",
    "                     {'title': '10 Most Active Terrorist Groups in Sub-Saharan Africa'}]),\n",
    "             \n",
    "             dict(\n",
    "                  label = 'North America',\n",
    "                 method = 'update',\n",
    "                 args = [{'visible': [False, False, False, False, False, False,\n",
    "                                      True, False, False, False, False, False]},\n",
    "                     {'title': '10 Most Active Terrorist Groups in North America'}]),\n",
    "\n",
    "            dict(\n",
    "                 label = 'Eastern Europe',\n",
    "                 method = 'update',\n",
    "                 args = [{'visible': [False, False, False, False, False, False,\n",
    "                                      False, True, False, False, False, False ]},\n",
    "                     {'title': '10 Most Active Terrorist Groups in Eastern Europe'}]), \n",
    "             \n",
    "                         dict(\n",
    "                label = 'South Asia',\n",
    "                 method = 'update',\n",
    "                 args = [{'visible': [False, False, False, False, False, False, \n",
    "                                      False, False, True, False, False, False]}, \n",
    "                     {'title': '10 Most Active Terrorist Groups in South Asia'}]),\n",
    "             \n",
    "             dict(\n",
    "                  label = 'Southeast Asia',\n",
    "                 method = 'update',\n",
    "                 args = [{'visible': [False, False, False, False, False, False, \n",
    "                                      False, False, False, True, False, False ]},\n",
    "                     {'title': '10 Most Active Terrorist Groups in Southeast Asia'}]), \n",
    "                                     dict(\n",
    "                label = 'Central Asia',\n",
    "                 method = 'update',\n",
    "                 args = [{'visible': [False, False, False, False, False, False, \n",
    "                                      False, False, False, False, True, False]}, \n",
    "                     {'title': '10 Most Active Terrorist Groups in Central Asia'}]),\n",
    "             \n",
    "             dict(\n",
    "                  label = 'Australasia & Oceania',\n",
    "                 method = 'update',\n",
    "                 args = [{'visible': [False, False, False, False, False, False, \n",
    "                                      False, False, False, False, False, True ]},\n",
    "                     {'title': '10 Most Active Terrorist Groups in Australasia & Oceania'}])\n",
    "        ]),\n",
    "    )\n",
    "])"
   ]
  },
  {
   "cell_type": "code",
   "execution_count": 354,
   "metadata": {
    "scrolled": false
   },
   "outputs": [
    {
     "data": {
      "text/plain": [
       "'file:///Users/princegrover/Documents/msan/data_viz/group_reg.html'"
      ]
     },
     "execution_count": 354,
     "metadata": {},
     "output_type": "execute_result"
    }
   ],
   "source": [
    "layout = dict(title='10 Most Active Terrorist Groups in selected Region (Select from Dropdown)', showlegend=False,\n",
    "              updatemenus=updatemenus, width=1100,\n",
    "              height=500, \n",
    "              xaxis=dict(title='Number of Attacks'))\n",
    "\n",
    "fig = dict(data=data, layout=layout)\n",
    "\n",
    "# py.plot(fig)\n",
    "plot(fig, filename='/Users/princegrover/Documents/msan/data_viz/group_reg.html' )"
   ]
  },
  {
   "cell_type": "markdown",
   "metadata": {},
   "source": [
    "### End"
   ]
  }
 ],
 "metadata": {
  "kernelspec": {
   "display_name": "Python 3",
   "language": "python",
   "name": "python3"
  },
  "language_info": {
   "codemirror_mode": {
    "name": "ipython",
    "version": 3
   },
   "file_extension": ".py",
   "mimetype": "text/x-python",
   "name": "python",
   "nbconvert_exporter": "python",
   "pygments_lexer": "ipython3",
   "version": "3.6.4"
  },
  "toc": {
   "nav_menu": {},
   "number_sections": true,
   "sideBar": true,
   "skip_h1_title": false,
   "title_cell": "Table of Contents",
   "title_sidebar": "Contents",
   "toc_cell": false,
   "toc_position": {},
   "toc_section_display": true,
   "toc_window_display": false
  }
 },
 "nbformat": 4,
 "nbformat_minor": 2
}
