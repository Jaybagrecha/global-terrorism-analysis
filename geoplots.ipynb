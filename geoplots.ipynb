{
 "cells": [
  {
   "cell_type": "code",
   "execution_count": 36,
   "metadata": {},
   "outputs": [],
   "source": [
    "import pandas as pd\n",
    "import numpy as np\n",
    "from mpl_toolkits.basemap import Basemap\n",
    "import matplotlib.pyplot as plt\n",
    "from matplotlib import animation,rc"
   ]
  },
  {
   "cell_type": "code",
   "execution_count": 37,
   "metadata": {},
   "outputs": [],
   "source": [
    "import plotly.plotly as py\n",
    "import plotly.graph_objs as go"
   ]
  },
  {
   "cell_type": "code",
   "execution_count": 38,
   "metadata": {},
   "outputs": [
    {
     "name": "stderr",
     "output_type": "stream",
     "text": [
      "/Users/princegrover/anaconda3/lib/python3.6/site-packages/IPython/core/interactiveshell.py:2728: DtypeWarning:\n",
      "\n",
      "Columns (4,6,31,33,53,61,62,63,76,79,90,92,94,96,114,115,121) have mixed types. Specify dtype option on import or set low_memory=False.\n",
      "\n"
     ]
    },
    {
     "data": {
      "text/html": [
       "<div>\n",
       "<style scoped>\n",
       "    .dataframe tbody tr th:only-of-type {\n",
       "        vertical-align: middle;\n",
       "    }\n",
       "\n",
       "    .dataframe tbody tr th {\n",
       "        vertical-align: top;\n",
       "    }\n",
       "\n",
       "    .dataframe thead th {\n",
       "        text-align: right;\n",
       "    }\n",
       "</style>\n",
       "<table border=\"1\" class=\"dataframe\">\n",
       "  <thead>\n",
       "    <tr style=\"text-align: right;\">\n",
       "      <th></th>\n",
       "      <th>Year</th>\n",
       "      <th>Month</th>\n",
       "      <th>Day</th>\n",
       "      <th>Country</th>\n",
       "      <th>Region</th>\n",
       "      <th>city</th>\n",
       "      <th>latitude</th>\n",
       "      <th>longitude</th>\n",
       "      <th>AttackType</th>\n",
       "      <th>Killed</th>\n",
       "      <th>Wounded</th>\n",
       "      <th>Group</th>\n",
       "      <th>casualities</th>\n",
       "    </tr>\n",
       "  </thead>\n",
       "  <tbody>\n",
       "    <tr>\n",
       "      <th>0</th>\n",
       "      <td>1970</td>\n",
       "      <td>7</td>\n",
       "      <td>2</td>\n",
       "      <td>Dominican Republic</td>\n",
       "      <td>Central America &amp; Caribbean</td>\n",
       "      <td>Santo Domingo</td>\n",
       "      <td>18.456792</td>\n",
       "      <td>-69.951164</td>\n",
       "      <td>Assassination</td>\n",
       "      <td>1.0</td>\n",
       "      <td>0.0</td>\n",
       "      <td>MANO-D</td>\n",
       "      <td>1.0</td>\n",
       "    </tr>\n",
       "    <tr>\n",
       "      <th>1</th>\n",
       "      <td>1970</td>\n",
       "      <td>0</td>\n",
       "      <td>0</td>\n",
       "      <td>Mexico</td>\n",
       "      <td>North America</td>\n",
       "      <td>Mexico city</td>\n",
       "      <td>19.432608</td>\n",
       "      <td>-99.133207</td>\n",
       "      <td>Hostage Taking (Kidnapping)</td>\n",
       "      <td>0.0</td>\n",
       "      <td>0.0</td>\n",
       "      <td>23rd of September Communist League</td>\n",
       "      <td>0.0</td>\n",
       "    </tr>\n",
       "    <tr>\n",
       "      <th>2</th>\n",
       "      <td>1970</td>\n",
       "      <td>1</td>\n",
       "      <td>0</td>\n",
       "      <td>Philippines</td>\n",
       "      <td>Southeast Asia</td>\n",
       "      <td>Unknown</td>\n",
       "      <td>15.478598</td>\n",
       "      <td>120.599741</td>\n",
       "      <td>Assassination</td>\n",
       "      <td>1.0</td>\n",
       "      <td>0.0</td>\n",
       "      <td>Unknown</td>\n",
       "      <td>1.0</td>\n",
       "    </tr>\n",
       "  </tbody>\n",
       "</table>\n",
       "</div>"
      ],
      "text/plain": [
       "   Year  Month  Day             Country                       Region  \\\n",
       "0  1970      7    2  Dominican Republic  Central America & Caribbean   \n",
       "1  1970      0    0              Mexico                North America   \n",
       "2  1970      1    0         Philippines               Southeast Asia   \n",
       "\n",
       "            city   latitude   longitude                   AttackType  Killed  \\\n",
       "0  Santo Domingo  18.456792  -69.951164                Assassination     1.0   \n",
       "1    Mexico city  19.432608  -99.133207  Hostage Taking (Kidnapping)     0.0   \n",
       "2        Unknown  15.478598  120.599741                Assassination     1.0   \n",
       "\n",
       "   Wounded                               Group  casualities  \n",
       "0      0.0                              MANO-D          1.0  \n",
       "1      0.0  23rd of September Communist League          0.0  \n",
       "2      0.0                             Unknown          1.0  "
      ]
     },
     "execution_count": 38,
     "metadata": {},
     "output_type": "execute_result"
    }
   ],
   "source": [
    "terror=pd.read_csv('globalterrorismdb_0617dist.csv',encoding='ISO-8859-1')\n",
    "\n",
    "# renaming to give better names\n",
    "terror.rename(columns={'iyear':'Year','imonth':'Month','iday':'Day','country_txt':'Country','region_txt':'Region','attacktype1_txt':'AttackType','target1':'Target','nkill':'Killed','nwound':'Wounded','summary':'Summary','gname':'Group','targtype1_txt':'Target_type','weaptype1_txt':'Weapon_type','motive':'Motive'},inplace=True)\n",
    "\n",
    "# subset required columns\n",
    "terror=terror[['Year','Month','Day','Country','Region','city','latitude','longitude','AttackType','Killed','Wounded','Group']]\n",
    "\n",
    "# adding casualities \n",
    "terror['casualities']=terror['Killed']+terror['Wounded']\n",
    "\n",
    "terror.head(3)"
   ]
  },
  {
   "cell_type": "code",
   "execution_count": 39,
   "metadata": {},
   "outputs": [
    {
     "data": {
      "text/plain": [
       "(170350, 13)"
      ]
     },
     "execution_count": 39,
     "metadata": {},
     "output_type": "execute_result"
    }
   ],
   "source": [
    "terror.shape"
   ]
  },
  {
   "cell_type": "code",
   "execution_count": 40,
   "metadata": {},
   "outputs": [
    {
     "data": {
      "text/plain": [
       "Year             int64\n",
       "Month            int64\n",
       "Day              int64\n",
       "Country         object\n",
       "Region          object\n",
       "city            object\n",
       "latitude       float64\n",
       "longitude      float64\n",
       "AttackType      object\n",
       "Killed         float64\n",
       "Wounded        float64\n",
       "Group           object\n",
       "casualities    float64\n",
       "dtype: object"
      ]
     },
     "execution_count": 40,
     "metadata": {},
     "output_type": "execute_result"
    }
   ],
   "source": [
    "terror.dtypes"
   ]
  },
  {
   "cell_type": "code",
   "execution_count": 42,
   "metadata": {},
   "outputs": [
    {
     "data": {
      "text/plain": [
       "Year           0\n",
       "Month          0\n",
       "Day            0\n",
       "Country        0\n",
       "Region         0\n",
       "city           0\n",
       "latitude       0\n",
       "longitude      0\n",
       "AttackType     0\n",
       "Killed         0\n",
       "Wounded        0\n",
       "Group          0\n",
       "casualities    0\n",
       "dtype: int64"
      ]
     },
     "execution_count": 42,
     "metadata": {},
     "output_type": "execute_result"
    }
   ],
   "source": [
    "terror.isna().sum()"
   ]
  },
  {
   "cell_type": "code",
   "execution_count": 43,
   "metadata": {},
   "outputs": [
    {
     "data": {
      "text/plain": [
       "(150159, 13)"
      ]
     },
     "execution_count": 43,
     "metadata": {},
     "output_type": "execute_result"
    }
   ],
   "source": [
    "terror.shape"
   ]
  },
  {
   "cell_type": "markdown",
   "metadata": {},
   "source": [
    "Some basic anlysis"
   ]
  },
  {
   "cell_type": "code",
   "execution_count": 105,
   "metadata": {},
   "outputs": [
    {
     "data": {
      "text/html": [
       "<div>\n",
       "<style scoped>\n",
       "    .dataframe tbody tr th:only-of-type {\n",
       "        vertical-align: middle;\n",
       "    }\n",
       "\n",
       "    .dataframe tbody tr th {\n",
       "        vertical-align: top;\n",
       "    }\n",
       "\n",
       "    .dataframe thead th {\n",
       "        text-align: right;\n",
       "    }\n",
       "</style>\n",
       "<table border=\"1\" class=\"dataframe\">\n",
       "  <thead>\n",
       "    <tr style=\"text-align: right;\">\n",
       "      <th></th>\n",
       "      <th>Year</th>\n",
       "      <th>Month</th>\n",
       "      <th>Day</th>\n",
       "      <th>Country</th>\n",
       "      <th>Region</th>\n",
       "      <th>city</th>\n",
       "      <th>latitude</th>\n",
       "      <th>longitude</th>\n",
       "      <th>AttackType</th>\n",
       "      <th>Killed</th>\n",
       "      <th>Wounded</th>\n",
       "      <th>Group</th>\n",
       "      <th>casualities</th>\n",
       "    </tr>\n",
       "  </thead>\n",
       "  <tbody>\n",
       "    <tr>\n",
       "      <th>73054</th>\n",
       "      <td>2001</td>\n",
       "      <td>9</td>\n",
       "      <td>11</td>\n",
       "      <td>United States</td>\n",
       "      <td>North America</td>\n",
       "      <td>New York City</td>\n",
       "      <td>40.712784</td>\n",
       "      <td>-74.005941</td>\n",
       "      <td>Hijacking</td>\n",
       "      <td>1383.0</td>\n",
       "      <td>7366.0</td>\n",
       "      <td>Al-Qaida</td>\n",
       "      <td>8749.0</td>\n",
       "    </tr>\n",
       "  </tbody>\n",
       "</table>\n",
       "</div>"
      ],
      "text/plain": [
       "       Year  Month  Day        Country         Region           city  \\\n",
       "73054  2001      9   11  United States  North America  New York City   \n",
       "\n",
       "        latitude  longitude AttackType  Killed  Wounded     Group  casualities  \n",
       "73054  40.712784 -74.005941  Hijacking  1383.0   7366.0  Al-Qaida       8749.0  "
      ]
     },
     "execution_count": 105,
     "metadata": {},
     "output_type": "execute_result"
    }
   ],
   "source": [
    "terror[terror['casualities'] == 8749]"
   ]
  },
  {
   "cell_type": "code",
   "execution_count": 104,
   "metadata": {},
   "outputs": [
    {
     "name": "stdout",
     "output_type": "stream",
     "text": [
      "Country with Highest Terrorist Attacks: Iraq\n",
      "Regions with Highest Terrorist Attacks: Middle East & North Africa\n",
      "Maximum casualities in an attack are: 8749.0 that took place in United States\n"
     ]
    }
   ],
   "source": [
    "print('Country with Highest Terrorist Attacks:',terror['Country'].value_counts().index[0])\n",
    "print('Regions with Highest Terrorist Attacks:',terror['Region'].value_counts().index[0])\n",
    "print('Maximum casualities in an attack are:',terror['casualities'].max(),'that took place in',terror.loc[terror['casualities'].idxmax()].Country)"
   ]
  },
  {
   "cell_type": "markdown",
   "metadata": {},
   "source": [
    "### Terrorism activities in India"
   ]
  },
  {
   "cell_type": "code",
   "execution_count": 15,
   "metadata": {},
   "outputs": [],
   "source": [
    "import geoplotlib\n",
    "from geoplotlib.utils import BoundingBox\n",
    "from geoplotlib.colors import ColorMap\n",
    "import json"
   ]
  },
  {
   "cell_type": "code",
   "execution_count": 16,
   "metadata": {},
   "outputs": [
    {
     "data": {
      "text/plain": [
       "(1970, 2016)"
      ]
     },
     "execution_count": 16,
     "metadata": {},
     "output_type": "execute_result"
    }
   ],
   "source": [
    "terror.Year.min(), terror.Year.max()"
   ]
  },
  {
   "cell_type": "code",
   "execution_count": 17,
   "metadata": {},
   "outputs": [
    {
     "data": {
      "text/html": [
       "<div>\n",
       "<style scoped>\n",
       "    .dataframe tbody tr th:only-of-type {\n",
       "        vertical-align: middle;\n",
       "    }\n",
       "\n",
       "    .dataframe tbody tr th {\n",
       "        vertical-align: top;\n",
       "    }\n",
       "\n",
       "    .dataframe thead th {\n",
       "        text-align: right;\n",
       "    }\n",
       "</style>\n",
       "<table border=\"1\" class=\"dataframe\">\n",
       "  <thead>\n",
       "    <tr style=\"text-align: right;\">\n",
       "      <th></th>\n",
       "      <th>Year</th>\n",
       "      <th>Month</th>\n",
       "      <th>Day</th>\n",
       "      <th>Country</th>\n",
       "      <th>Region</th>\n",
       "      <th>city</th>\n",
       "      <th>latitude</th>\n",
       "      <th>longitude</th>\n",
       "      <th>AttackType</th>\n",
       "      <th>Killed</th>\n",
       "      <th>Wounded</th>\n",
       "      <th>Group</th>\n",
       "      <th>casualities</th>\n",
       "    </tr>\n",
       "  </thead>\n",
       "  <tbody>\n",
       "    <tr>\n",
       "      <th>0</th>\n",
       "      <td>1970</td>\n",
       "      <td>7</td>\n",
       "      <td>2</td>\n",
       "      <td>Dominican Republic</td>\n",
       "      <td>Central America &amp; Caribbean</td>\n",
       "      <td>Santo Domingo</td>\n",
       "      <td>18.456792</td>\n",
       "      <td>-69.951164</td>\n",
       "      <td>Assassination</td>\n",
       "      <td>1.0</td>\n",
       "      <td>0.0</td>\n",
       "      <td>MANO-D</td>\n",
       "      <td>1.0</td>\n",
       "    </tr>\n",
       "  </tbody>\n",
       "</table>\n",
       "</div>"
      ],
      "text/plain": [
       "   Year  Month  Day             Country                       Region  \\\n",
       "0  1970      7    2  Dominican Republic  Central America & Caribbean   \n",
       "\n",
       "            city   latitude  longitude     AttackType  Killed  Wounded  \\\n",
       "0  Santo Domingo  18.456792 -69.951164  Assassination     1.0      0.0   \n",
       "\n",
       "    Group  casualities  \n",
       "0  MANO-D          1.0  "
      ]
     },
     "execution_count": 17,
     "metadata": {},
     "output_type": "execute_result"
    }
   ],
   "source": [
    "terror[:1]"
   ]
  },
  {
   "cell_type": "code",
   "execution_count": null,
   "metadata": {},
   "outputs": [],
   "source": [
    "terror_sample = terror.copy()[['AttackType','latitude', 'longitude']]\n",
    "terror_sample.columns = ['name','lat','lon']\n",
    "terror_sample.dropna(inplace=True)"
   ]
  },
  {
   "cell_type": "code",
   "execution_count": null,
   "metadata": {},
   "outputs": [],
   "source": [
    "geoplotlib.dot(terror_sample)\n",
    "geoplotlib.show()"
   ]
  },
  {
   "cell_type": "markdown",
   "metadata": {},
   "source": [
    "### Static map with number of attacks"
   ]
  },
  {
   "cell_type": "code",
   "execution_count": 15,
   "metadata": {},
   "outputs": [],
   "source": [
    "terror_sample2 = terror.groupby(['city', 'latitude', 'longitude']).count()"
   ]
  },
  {
   "cell_type": "code",
   "execution_count": 16,
   "metadata": {},
   "outputs": [],
   "source": [
    "terror_sample2.reset_index(inplace=True)"
   ]
  },
  {
   "cell_type": "code",
   "execution_count": 17,
   "metadata": {},
   "outputs": [],
   "source": [
    "terror_sample2 = terror_sample2[['city', 'casualities', 'latitude', 'longitude']]\n",
    "terror_sample2.columns = ['name', 'pop', 'lat', 'lon']"
   ]
  },
  {
   "cell_type": "code",
   "execution_count": 161,
   "metadata": {},
   "outputs": [
    {
     "data": {
      "text/html": [
       "<div>\n",
       "<style scoped>\n",
       "    .dataframe tbody tr th:only-of-type {\n",
       "        vertical-align: middle;\n",
       "    }\n",
       "\n",
       "    .dataframe tbody tr th {\n",
       "        vertical-align: top;\n",
       "    }\n",
       "\n",
       "    .dataframe thead th {\n",
       "        text-align: right;\n",
       "    }\n",
       "</style>\n",
       "<table border=\"1\" class=\"dataframe\">\n",
       "  <thead>\n",
       "    <tr style=\"text-align: right;\">\n",
       "      <th></th>\n",
       "      <th>name</th>\n",
       "      <th>pop</th>\n",
       "      <th>lat</th>\n",
       "      <th>lon</th>\n",
       "    </tr>\n",
       "  </thead>\n",
       "  <tbody>\n",
       "    <tr>\n",
       "      <th>5581</th>\n",
       "      <td>Baghdad</td>\n",
       "      <td>2091</td>\n",
       "      <td>33.300000</td>\n",
       "      <td>44.400000</td>\n",
       "    </tr>\n",
       "    <tr>\n",
       "      <th>33404</th>\n",
       "      <td>Lima</td>\n",
       "      <td>2006</td>\n",
       "      <td>-12.046378</td>\n",
       "      <td>-77.042791</td>\n",
       "    </tr>\n",
       "    <tr>\n",
       "      <th>27866</th>\n",
       "      <td>Karachi</td>\n",
       "      <td>1356</td>\n",
       "      <td>24.893379</td>\n",
       "      <td>67.028061</td>\n",
       "    </tr>\n",
       "  </tbody>\n",
       "</table>\n",
       "</div>"
      ],
      "text/plain": [
       "          name   pop        lat        lon\n",
       "5581   Baghdad  2091  33.300000  44.400000\n",
       "33404     Lima  2006 -12.046378 -77.042791\n",
       "27866  Karachi  1356  24.893379  67.028061"
      ]
     },
     "execution_count": 161,
     "metadata": {},
     "output_type": "execute_result"
    }
   ],
   "source": [
    "terror_sample2[:3]"
   ]
  },
  {
   "cell_type": "code",
   "execution_count": 162,
   "metadata": {},
   "outputs": [],
   "source": [
    "# only keep where pop>50 (i.e. atleast 10 attacks in 46 years of data)\n",
    "\n",
    "terror_sample2 = terror_sample2[terror_sample2['pop'] > 10]"
   ]
  },
  {
   "cell_type": "code",
   "execution_count": 163,
   "metadata": {},
   "outputs": [
    {
     "data": {
      "text/plain": [
       "(1376, 4)"
      ]
     },
     "execution_count": 163,
     "metadata": {},
     "output_type": "execute_result"
    }
   ],
   "source": [
    "terror_sample2.shape"
   ]
  },
  {
   "cell_type": "code",
   "execution_count": 164,
   "metadata": {},
   "outputs": [],
   "source": [
    "# terror_sample2['pop'] = terror_sample2['pop'].astype(int)"
   ]
  },
  {
   "cell_type": "code",
   "execution_count": 165,
   "metadata": {},
   "outputs": [
    {
     "data": {
      "text/plain": [
       "(11, 2091)"
      ]
     },
     "execution_count": 165,
     "metadata": {},
     "output_type": "execute_result"
    }
   ],
   "source": [
    "terror_sample2['pop'].min(), terror_sample2['pop'].max()"
   ]
  },
  {
   "cell_type": "code",
   "execution_count": 166,
   "metadata": {},
   "outputs": [],
   "source": [
    "terror_sample2.sort_values(by='pop',  ascending=False, inplace=True)"
   ]
  },
  {
   "cell_type": "code",
   "execution_count": 167,
   "metadata": {},
   "outputs": [
    {
     "data": {
      "text/html": [
       "<div>\n",
       "<style scoped>\n",
       "    .dataframe tbody tr th:only-of-type {\n",
       "        vertical-align: middle;\n",
       "    }\n",
       "\n",
       "    .dataframe tbody tr th {\n",
       "        vertical-align: top;\n",
       "    }\n",
       "\n",
       "    .dataframe thead th {\n",
       "        text-align: right;\n",
       "    }\n",
       "</style>\n",
       "<table border=\"1\" class=\"dataframe\">\n",
       "  <thead>\n",
       "    <tr style=\"text-align: right;\">\n",
       "      <th></th>\n",
       "      <th>name</th>\n",
       "      <th>pop</th>\n",
       "      <th>lat</th>\n",
       "      <th>lon</th>\n",
       "    </tr>\n",
       "  </thead>\n",
       "  <tbody>\n",
       "    <tr>\n",
       "      <th>5581</th>\n",
       "      <td>Baghdad</td>\n",
       "      <td>2091</td>\n",
       "      <td>33.300000</td>\n",
       "      <td>44.400000</td>\n",
       "    </tr>\n",
       "    <tr>\n",
       "      <th>33404</th>\n",
       "      <td>Lima</td>\n",
       "      <td>2006</td>\n",
       "      <td>-12.046378</td>\n",
       "      <td>-77.042791</td>\n",
       "    </tr>\n",
       "  </tbody>\n",
       "</table>\n",
       "</div>"
      ],
      "text/plain": [
       "          name   pop        lat        lon\n",
       "5581   Baghdad  2091  33.300000  44.400000\n",
       "33404     Lima  2006 -12.046378 -77.042791"
      ]
     },
     "execution_count": 167,
     "metadata": {},
     "output_type": "execute_result"
    }
   ],
   "source": [
    "terror_sample2[:2]"
   ]
  },
  {
   "cell_type": "code",
   "execution_count": 168,
   "metadata": {
    "scrolled": false
   },
   "outputs": [
    {
     "data": {
      "text/html": [
       "<iframe id=\"igraph\" scrolling=\"no\" style=\"border:none;\" seamless=\"seamless\" src=\"https://plot.ly/~groverpr/2.embed\" height=\"525px\" width=\"100%\"></iframe>"
      ],
      "text/plain": [
       "<plotly.tools.PlotlyDisplay object>"
      ]
     },
     "execution_count": 168,
     "metadata": {},
     "output_type": "execute_result"
    }
   ],
   "source": [
    "terror_sample2['text'] = terror_sample2['name'] + '<br>Total Attacks ' + (terror_sample2['pop']).astype(str)\n",
    "limits = [(11,20),(21,50),(51,200),(201,1000),(1001,3000)]\n",
    "colors = [\"rgb(0,116,217)\",\"green\",\"rgb(133,20,75)\",\"rgb(255,133,27)\",'darkred']\n",
    "cities = []\n",
    "scale = 5\n",
    "\n",
    "for i in range(len(limits)):\n",
    "    lim = limits[i]\n",
    "    terror_sample2_sub = terror_sample2[(terror_sample2['pop'] > lim[0]) & (terror_sample2['pop'] < lim[1]) ]\n",
    "    city = dict(\n",
    "        type = 'scattergeo',\n",
    "        locationmode = 'World-map',\n",
    "        lon = terror_sample2_sub['lon'],\n",
    "        lat = terror_sample2_sub['lat'],\n",
    "        text = terror_sample2_sub['text'],\n",
    "        marker = dict(\n",
    "            size = terror_sample2_sub['pop']/scale,\n",
    "            color = colors[i],\n",
    "            line = dict(width=0.5, color='rgb(40,40,40)'),\n",
    "            sizemode = 'area'\n",
    "        ),\n",
    "        name = '{0} - {1}'.format(lim[0],lim[1]) )\n",
    "    cities.append(city)\n",
    "\n",
    "layout = dict(\n",
    "#         title = 'Total Terrorist Attacks from 1970-2016 <br>(Click legend to toggle traces)',\n",
    "        showlegend = True,\n",
    "        geo = dict(\n",
    "            projection=dict( type='Mercator' ),\n",
    "            showland = True,\n",
    "            landcolor = 'rgb(217, 217, 217)',\n",
    "            subunitwidth=1,\n",
    "            countrywidth=1,\n",
    "            subunitcolor=\"rgb(255, 255, 255)\",\n",
    "            countrycolor=\"rgb(255, 255, 255)\"\n",
    "        ),\n",
    "    )\n",
    "\n",
    "fig = dict( data=cities, layout=layout )\n",
    "py.iplot( fig, validate=False, filename='d3-bubble-map-populations' )"
   ]
  },
  {
   "cell_type": "markdown",
   "metadata": {},
   "source": [
    "### Animation world map"
   ]
  },
  {
   "cell_type": "code",
   "execution_count": 45,
   "metadata": {},
   "outputs": [
    {
     "data": {
      "text/plain": [
       "(150159, 13)"
      ]
     },
     "execution_count": 45,
     "metadata": {},
     "output_type": "execute_result"
    }
   ],
   "source": [
    "terror.shape"
   ]
  },
  {
   "cell_type": "code",
   "execution_count": 46,
   "metadata": {},
   "outputs": [
    {
     "data": {
      "text/html": [
       "<div>\n",
       "<style scoped>\n",
       "    .dataframe tbody tr th:only-of-type {\n",
       "        vertical-align: middle;\n",
       "    }\n",
       "\n",
       "    .dataframe tbody tr th {\n",
       "        vertical-align: top;\n",
       "    }\n",
       "\n",
       "    .dataframe thead th {\n",
       "        text-align: right;\n",
       "    }\n",
       "</style>\n",
       "<table border=\"1\" class=\"dataframe\">\n",
       "  <thead>\n",
       "    <tr style=\"text-align: right;\">\n",
       "      <th></th>\n",
       "      <th>Year</th>\n",
       "      <th>Month</th>\n",
       "      <th>Day</th>\n",
       "      <th>Country</th>\n",
       "      <th>Region</th>\n",
       "      <th>city</th>\n",
       "      <th>latitude</th>\n",
       "      <th>longitude</th>\n",
       "      <th>AttackType</th>\n",
       "      <th>Killed</th>\n",
       "      <th>Wounded</th>\n",
       "      <th>Group</th>\n",
       "      <th>casualities</th>\n",
       "    </tr>\n",
       "  </thead>\n",
       "  <tbody>\n",
       "    <tr>\n",
       "      <th>0</th>\n",
       "      <td>1970</td>\n",
       "      <td>7</td>\n",
       "      <td>2</td>\n",
       "      <td>Dominican Republic</td>\n",
       "      <td>Central America &amp; Caribbean</td>\n",
       "      <td>Santo Domingo</td>\n",
       "      <td>18.456792</td>\n",
       "      <td>-69.951164</td>\n",
       "      <td>Assassination</td>\n",
       "      <td>1.0</td>\n",
       "      <td>0.0</td>\n",
       "      <td>MANO-D</td>\n",
       "      <td>1.0</td>\n",
       "    </tr>\n",
       "  </tbody>\n",
       "</table>\n",
       "</div>"
      ],
      "text/plain": [
       "   Year  Month  Day             Country                       Region  \\\n",
       "0  1970      7    2  Dominican Republic  Central America & Caribbean   \n",
       "\n",
       "            city   latitude  longitude     AttackType  Killed  Wounded  \\\n",
       "0  Santo Domingo  18.456792 -69.951164  Assassination     1.0      0.0   \n",
       "\n",
       "    Group  casualities  \n",
       "0  MANO-D          1.0  "
      ]
     },
     "execution_count": 46,
     "metadata": {},
     "output_type": "execute_result"
    }
   ],
   "source": [
    "terror[:1]"
   ]
  },
  {
   "cell_type": "code",
   "execution_count": 47,
   "metadata": {},
   "outputs": [],
   "source": [
    "terror_r = terror.groupby(by=['latitude','longitude', 'Year', 'city']).count()"
   ]
  },
  {
   "cell_type": "code",
   "execution_count": 48,
   "metadata": {},
   "outputs": [],
   "source": [
    "terror_r = terror_r.reset_index()"
   ]
  },
  {
   "cell_type": "code",
   "execution_count": 49,
   "metadata": {},
   "outputs": [],
   "source": [
    "terror_r = terror_r[['latitude', 'longitude', 'Year', 'casualities', 'city']]"
   ]
  },
  {
   "cell_type": "code",
   "execution_count": 50,
   "metadata": {},
   "outputs": [
    {
     "data": {
      "text/html": [
       "<div>\n",
       "<style scoped>\n",
       "    .dataframe tbody tr th:only-of-type {\n",
       "        vertical-align: middle;\n",
       "    }\n",
       "\n",
       "    .dataframe tbody tr th {\n",
       "        vertical-align: top;\n",
       "    }\n",
       "\n",
       "    .dataframe thead th {\n",
       "        text-align: right;\n",
       "    }\n",
       "</style>\n",
       "<table border=\"1\" class=\"dataframe\">\n",
       "  <thead>\n",
       "    <tr style=\"text-align: right;\">\n",
       "      <th></th>\n",
       "      <th>latitude</th>\n",
       "      <th>longitude</th>\n",
       "      <th>Year</th>\n",
       "      <th>casualities</th>\n",
       "      <th>city</th>\n",
       "    </tr>\n",
       "  </thead>\n",
       "  <tbody>\n",
       "    <tr>\n",
       "      <th>0</th>\n",
       "      <td>-53.154613</td>\n",
       "      <td>-70.916943</td>\n",
       "      <td>1984</td>\n",
       "      <td>3</td>\n",
       "      <td>Punta Arenas</td>\n",
       "    </tr>\n",
       "    <tr>\n",
       "      <th>1</th>\n",
       "      <td>-53.154613</td>\n",
       "      <td>-70.916943</td>\n",
       "      <td>1986</td>\n",
       "      <td>1</td>\n",
       "      <td>Punta Arenas</td>\n",
       "    </tr>\n",
       "  </tbody>\n",
       "</table>\n",
       "</div>"
      ],
      "text/plain": [
       "    latitude  longitude  Year  casualities          city\n",
       "0 -53.154613 -70.916943  1984            3  Punta Arenas\n",
       "1 -53.154613 -70.916943  1986            1  Punta Arenas"
      ]
     },
     "execution_count": 50,
     "metadata": {},
     "output_type": "execute_result"
    }
   ],
   "source": [
    "terror_r[:2]"
   ]
  },
  {
   "cell_type": "code",
   "execution_count": 51,
   "metadata": {},
   "outputs": [
    {
     "data": {
      "text/plain": [
       "(82871, 5)"
      ]
     },
     "execution_count": 51,
     "metadata": {},
     "output_type": "execute_result"
    }
   ],
   "source": [
    "terror_r.shape"
   ]
  },
  {
   "cell_type": "code",
   "execution_count": 52,
   "metadata": {},
   "outputs": [],
   "source": [
    "# reducing some rows\n",
    "\n",
    "terror_r = terror_r[(terror_r.casualities > 5)]"
   ]
  },
  {
   "cell_type": "code",
   "execution_count": 53,
   "metadata": {},
   "outputs": [
    {
     "data": {
      "text/plain": [
       "(2868, 5)"
      ]
     },
     "execution_count": 53,
     "metadata": {},
     "output_type": "execute_result"
    }
   ],
   "source": [
    "terror_r.shape"
   ]
  },
  {
   "cell_type": "code",
   "execution_count": 54,
   "metadata": {
    "scrolled": true
   },
   "outputs": [],
   "source": [
    "# saving to load in r\n",
    "\n",
    "terror_r.to_csv('terror_R.csv', index=False)"
   ]
  },
  {
   "cell_type": "markdown",
   "metadata": {},
   "source": [
    "• attacks per year for all the countries   \n",
    "• casualties  (killings+some thing else as per kernel) per year for all countries"
   ]
  },
  {
   "cell_type": "code",
   "execution_count": 55,
   "metadata": {},
   "outputs": [
    {
     "data": {
      "text/html": [
       "<div>\n",
       "<style scoped>\n",
       "    .dataframe tbody tr th:only-of-type {\n",
       "        vertical-align: middle;\n",
       "    }\n",
       "\n",
       "    .dataframe tbody tr th {\n",
       "        vertical-align: top;\n",
       "    }\n",
       "\n",
       "    .dataframe thead th {\n",
       "        text-align: right;\n",
       "    }\n",
       "</style>\n",
       "<table border=\"1\" class=\"dataframe\">\n",
       "  <thead>\n",
       "    <tr style=\"text-align: right;\">\n",
       "      <th></th>\n",
       "      <th>latitude</th>\n",
       "      <th>longitude</th>\n",
       "      <th>Year</th>\n",
       "      <th>casualities</th>\n",
       "      <th>city</th>\n",
       "    </tr>\n",
       "  </thead>\n",
       "  <tbody>\n",
       "    <tr>\n",
       "      <th>48</th>\n",
       "      <td>-38.734133</td>\n",
       "      <td>-72.584651</td>\n",
       "      <td>1988</td>\n",
       "      <td>14</td>\n",
       "      <td>Temuco</td>\n",
       "    </tr>\n",
       "  </tbody>\n",
       "</table>\n",
       "</div>"
      ],
      "text/plain": [
       "     latitude  longitude  Year  casualities    city\n",
       "48 -38.734133 -72.584651  1988           14  Temuco"
      ]
     },
     "execution_count": 55,
     "metadata": {},
     "output_type": "execute_result"
    }
   ],
   "source": [
    "terror_r[:1]"
   ]
  },
  {
   "cell_type": "code",
   "execution_count": 56,
   "metadata": {},
   "outputs": [],
   "source": [
    "from datetime import datetime"
   ]
  },
  {
   "cell_type": "code",
   "execution_count": 57,
   "metadata": {},
   "outputs": [],
   "source": [
    "chart_filename = \"World Attacks \" + str(datetime.now())"
   ]
  },
  {
   "cell_type": "code",
   "execution_count": 58,
   "metadata": {},
   "outputs": [],
   "source": [
    "# list of years\n",
    "years = terror_r[\"Year\"].unique()\n",
    "years = list(sorted(years.astype(str)))\n",
    "\n",
    "# Group by year and count number of attacks\n",
    "ylist = terror.groupby(\"Year\").count()[\"casualities\"]\n",
    "ylist_cum = ylist.cumsum()\n",
    "\n",
    "# Make running count of states\n",
    "# statecount = df.groupby(\"on_year_s\")[\"state\"].nunique()\n",
    "# statecount = list(statecount.astype(str))\n",
    "\n",
    "# Get max range for subplot (minimum set to 0, no y-axis jump)\n",
    "max_range = max(ylist) * 1.25\n",
    "max_range_cum = max(ylist_cum) * 1.25\n",
    "\n",
    "min_range_year = 1970\n",
    "max_range_year = 2016\n",
    "max_range_attacks =  terror_r['casualities'].max() # decides max of color scale\n",
    "#max_range_states = 500\n",
    "#max_range_statecount = 40\n",
    "\n",
    "# Convert list items to string\n",
    "ylist = list(ylist.astype(str))\n",
    "ylist_cum = list(ylist_cum.astype(str))"
   ]
  },
  {
   "cell_type": "code",
   "execution_count": 59,
   "metadata": {},
   "outputs": [
    {
     "data": {
      "text/plain": [
       "Index(['latitude', 'longitude', 'Year', 'casualities', 'city'], dtype='object')"
      ]
     },
     "execution_count": 59,
     "metadata": {},
     "output_type": "execute_result"
    }
   ],
   "source": [
    "terror_r.columns"
   ]
  },
  {
   "cell_type": "code",
   "execution_count": 60,
   "metadata": {},
   "outputs": [],
   "source": [
    "import numpy as np\n",
    "import pandas as pd\n",
    "\n",
    "import plotly.plotly as py\n",
    "from plotly.graph_objs import *\n",
    "from plotly.grid_objs import Grid, Column"
   ]
  },
  {
   "cell_type": "code",
   "execution_count": 61,
   "metadata": {},
   "outputs": [
    {
     "data": {
      "text/plain": [
       "'https://plot.ly/~groverpr/32/'"
      ]
     },
     "execution_count": 61,
     "metadata": {},
     "output_type": "execute_result"
    }
   ],
   "source": [
    "# Since Grid has a size limit, it is good practice to upload multiple Grids for suplots in case of large datasets\n",
    "grid_filename =  \" Grid\"\n",
    "grid_filename2 = grid_filename + \"2\"\n",
    "\n",
    "columns = []\n",
    "columns2 = []\n",
    "\n",
    "attack_avgs = []\n",
    "\n",
    "for i, year in enumerate(years):\n",
    "\n",
    "    # Filter df for current year only\n",
    "    current_year = terror_r[terror_r[\"Year\"] == int(year)]\n",
    "\n",
    "    # Get average blade length for the year (ignores NaN values)\n",
    "    attack_avg = current_year[\"casualities\"].astype(float).mean()\n",
    "    attack_avgs.append(attack_avg)\n",
    "\n",
    "    lons = list(current_year[\"longitude\"].astype(float))\n",
    "    lats = list(current_year[\"latitude\"].astype(float))\n",
    "    texts = list(current_year[\"city\"].astype(str)) # city names\n",
    "    sizes = list(current_year[\"casualities\"].astype(float)) # attacks numbers\n",
    "\n",
    "    # Iteratively grow list to create running counts\n",
    "    xvalues = years[:i + 1]\n",
    "    yvalues = ylist[:i + 1]\n",
    "    yvalues_cum = ylist_cum[:i + 1]\n",
    "\n",
    "    # Idem for state count\n",
    "#     statevalues = statecount[:i + 1]\n",
    "\n",
    "    # Get data for Choropleth inlay\n",
    "#     statelist = current_year.groupby(\"state\").count()[\"unique_id\"]\n",
    "#     states = list(statelist.index.astype(str))\n",
    "#     zvalues = list(statelist.astype(int))\n",
    "\n",
    "    columns.append(Column(lons, \"x{}\".format(i + 1)))\n",
    "    columns.append(Column(lats, \"y{}\".format(i + 1)))\n",
    "    columns.append(Column(texts, \"text{}\".format(i + 1)))\n",
    "    columns.append(Column(sizes, \"size{}\".format(i + 1)))\n",
    "\n",
    "    columns2.append(Column(xvalues, \"x{}\".format(i + 1)))\n",
    "    columns2.append(Column(yvalues, \"y{}\".format(i + 1)))\n",
    "    columns2.append(Column(yvalues_cum, \"y_cum{}\".format(i + 1)))\n",
    "#     columns2.append(Column(attack_avgs, \"attack_avg{}\".format(i + 1)))\n",
    "#     columns2.append(Column(statevalues, \"state{}\".format(i + 1)))\n",
    "#     columns2.append(Column(states, \"location{}\".format(i + 1)))\n",
    "#     columns2.append(Column(zvalues, \"z{}\".format(i + 1)))\n",
    "\n",
    "# Will throw error if file exists or path is not root\n",
    "grid = Grid(columns)\n",
    "py.grid_ops.upload(grid, grid_filename, auto_open=False)\n",
    "\n",
    "grid2 = Grid(columns2)\n",
    "# py.iplot(grid2, validate=False, filename='/Users/princegrover/Documents/msan/data_viz/assignments/project/DataVisualization-FinalProject/animation.html' )\n",
    "py.grid_ops.upload(grid2, grid_filename2, auto_open=False)"
   ]
  },
  {
   "cell_type": "code",
   "execution_count": 62,
   "metadata": {},
   "outputs": [
    {
     "data": {
      "text/plain": [
       "Column(\"[31.0, 9.0, 8.0, 7.0, 6.0, 6.0, 9.0, 8.0, 8.0, 12.0, 10.0, 6.0, 8.0, 6.0, 19.0, 7.0, 26.0, 8.0, 9.0, 7.0, 7.0, 11.0]\", size1)"
      ]
     },
     "execution_count": 62,
     "metadata": {},
     "output_type": "execute_result"
    }
   ],
   "source": [
    "columns[3]"
   ]
  },
  {
   "cell_type": "code",
   "execution_count": 63,
   "metadata": {},
   "outputs": [
    {
     "data": {
      "text/plain": [
       "Column(\"['1970']\", x1)"
      ]
     },
     "execution_count": 63,
     "metadata": {},
     "output_type": "execute_result"
    }
   ],
   "source": [
    "columns2[0]"
   ]
  },
  {
   "cell_type": "code",
   "execution_count": 79,
   "metadata": {},
   "outputs": [],
   "source": [
    "manual = [[0.0, 'rgb(165,0,38)'], \n",
    "[0.1111111111111111, 'rgb(215,48,39)'],\n",
    "[0.2222222222222222, 'rgb(244,109,67)'],\n",
    "[0.3333333333333333, 'rgb(253,174,97)'], \n",
    "[0.4444444444444444, 'rgb(254,224,144)'],\n",
    "[0.5555555555555556, 'rgb(224,243,248)'],\n",
    "[0.6666666666666666, 'rgb(171,217,233)'], \n",
    "[0.7777777777777778, 'rgb(116,173,209)'],\n",
    "[0.8888888888888888, 'rgb(69,117,180)'], \n",
    "[1.0, 'rgb(49,54,149)']]\n",
    "\n",
    "blackpink = [[0, \"rgb(59,37,73)\"], [0.35, \"rgb(76,43,96)\"], [0.6, \"rgb(93,49,119)\"],\n",
    "            [0.6, \"rgb(109,54,143)\"], [0.7, \"rgb(143,66,189)\"], [1, \"rgb(152,80,200)\"]]"
   ]
  },
  {
   "cell_type": "code",
   "execution_count": 90,
   "metadata": {},
   "outputs": [],
   "source": [
    "# Main trace\n",
    "trace1 = Scattermapbox(\n",
    "\n",
    "    # GENERAL\n",
    "    lonsrc = grid.get_column_reference(\"x1\"),\n",
    "    latsrc = grid.get_column_reference(\"y1\"),\n",
    "    textsrc = grid.get_column_reference(\"text1\"),\n",
    "    mode = \"markers\",\n",
    "    hoverinfo = \"lon+lat+text\",\n",
    "\n",
    "    # SPECS\n",
    "    marker = dict(\n",
    "\n",
    "        # BASIC\n",
    "        sizesrc = grid.get_column_reference(\"size1\"),\n",
    "        colorsrc = grid.get_column_reference(\"size1\"),\n",
    "        sizeref = 4,\n",
    "        opacity = \"0.6\",\n",
    "\n",
    "        # COLORSCALE\n",
    "        cmin = 0,\n",
    "        cmax = max_range_attacks,\n",
    "        autocolorscale = False,\n",
    "        colorscale = manual,\n",
    "        reversescale = True,\n",
    "        colorbar = dict(\n",
    "            title = \"Number <br> of <br> Attacks\", # colorbar on side for attack numbers max attacks\n",
    "        ),\n",
    "    ),\n",
    "\n",
    ")"
   ]
  },
  {
   "cell_type": "code",
   "execution_count": 91,
   "metadata": {},
   "outputs": [],
   "source": [
    "# Non-cumulative count\n",
    "trace2 = Scatter(\n",
    "\n",
    "    # GENERAL\n",
    "    xsrc = grid2.get_column_reference(\"x1\"),\n",
    "    ysrc = grid2.get_column_reference(\"y1\"),\n",
    "    mode = \"lines+markers\",\n",
    "    hoverinfo = \"x+y\",\n",
    "\n",
    "    # SPECS\n",
    "    line = dict(\n",
    "        color = \"#17BECF\",\n",
    "    ),\n",
    "    marker = dict(\n",
    "        symbol = \"cross-thin-open\",\n",
    "    ),\n",
    "    xaxis = \"x\",\n",
    "    yaxis = \"y4\",\n",
    "\n",
    ")"
   ]
  },
  {
   "cell_type": "code",
   "execution_count": 82,
   "metadata": {},
   "outputs": [],
   "source": [
    "# Cumulative count\n",
    "trace3 = Scatter(\n",
    "\n",
    "    # GENERAL\n",
    "    xsrc = grid2.get_column_reference(\"x1\"),\n",
    "    ysrc = grid2.get_column_reference(\"y_cum1\"),\n",
    "    mode = \"lines\",\n",
    "    fill = \"tozeroy\",\n",
    "    hoverinfo = \"x+y\",\n",
    "\n",
    "    # SPECS\n",
    "    line = dict(\n",
    "        color = \"rgb(17,123,215)\",\n",
    "    ),\n",
    "    xaxis = \"x2\",\n",
    "    yaxis = \"y3\",\n",
    "\n",
    ")"
   ]
  },
  {
   "cell_type": "markdown",
   "metadata": {},
   "source": [
    "Set up slider and buttons\n"
   ]
  },
  {
   "cell_type": "code",
   "execution_count": 92,
   "metadata": {},
   "outputs": [],
   "source": [
    "animation_time = 1000\n",
    "transition_time = 300\n",
    "slider_transition_time = 300\n",
    "\n",
    "slider = dict(\n",
    "\n",
    "    # GENERAL\n",
    "    plotlycommand = \"animate\",\n",
    "    values = years,\n",
    "    initialValue = years[0],\n",
    "    visible = True,\n",
    "\n",
    "    # ARGUMENTS\n",
    "    args = [\n",
    "        \"slider.value\",\n",
    "        dict(\n",
    "            duration = animation_time,\n",
    "            ease = \"cubic-in-out\",\n",
    "        ),\n",
    "    ],\n",
    "\n",
    ")\n",
    "\n",
    "sliders = dict(\n",
    "\n",
    "    # GENERAL\n",
    "    active = 0,\n",
    "    steps = [],\n",
    "\n",
    "    currentvalue = dict(\n",
    "        font = dict(size = 16),\n",
    "        prefix = \"Year : \",\n",
    "        xanchor = \"right\",\n",
    "        visible = True,\n",
    "    ),\n",
    "    transition = dict(\n",
    "        duration = slider_transition_time,\n",
    "        easing = \"cubic-in-out\",\n",
    "    ),\n",
    "\n",
    "    # PLACEMENT\n",
    "    x = 0.1,\n",
    "    y = 0,\n",
    "    pad = dict(t = 40, b = 10),\n",
    "    len = 0.9,\n",
    "    xanchor = \"left\",\n",
    "    yanchor = \"top\",\n",
    "\n",
    ")\n",
    "\n",
    "for year in years:\n",
    "\n",
    "    slider_step = dict(\n",
    "\n",
    "            # GENERAL\n",
    "            method = \"animate\",\n",
    "            value = year,\n",
    "            label = year,\n",
    "\n",
    "            # ARGUMENTS\n",
    "            args = [\n",
    "                [year],\n",
    "                dict(\n",
    "                    frame = dict(duration = animation_time, redraw = False),\n",
    "                    transition = dict(duration = slider_transition_time),\n",
    "                    mode = \"immediate\",\n",
    "                    ),\n",
    "                ],\n",
    "\n",
    "            )\n",
    "\n",
    "    sliders[\"steps\"].append(slider_step)\n",
    "\n",
    "\n",
    "updatemenus = dict(\n",
    "\n",
    "    # GENERAL\n",
    "    type = \"buttons\",\n",
    "    showactive = False,\n",
    "    x = 0.1, #x = 1.1\n",
    "    y = 0, #y = 1\n",
    "    pad = dict(t = 60, r = 10),\n",
    "    xanchor = \"right\",\n",
    "    yanchor = \"top\",\n",
    "    direction = \"left\",\n",
    "\n",
    "    # BUTTONS\n",
    "    buttons=[\n",
    "        dict(\n",
    "            method = \"animate\",\n",
    "            label = \"Play\",\n",
    "\n",
    "            # PLAY\n",
    "            args = [\n",
    "                None,\n",
    "                dict(\n",
    "                    frame = dict(duration = animation_time, redraw = False), # False quicker but disables animations\n",
    "                    fromcurrent = True,\n",
    "                    transition = dict(duration = transition_time, easing = \"quadratic-in-out\"), # easing = \"cubic-in-out\"\n",
    "                    mode = \"immediate\",\n",
    "                    ),\n",
    "                ],\n",
    "            ),\n",
    "        dict(\n",
    "            method = \"animate\",\n",
    "            label = \"Pause\",\n",
    "\n",
    "            # PAUSE\n",
    "            args = [\n",
    "                [None], # Note the list\n",
    "                dict(\n",
    "                    frame = dict(duration = 0, redraw = False), # Idem\n",
    "                    mode = \"immediate\",\n",
    "                    transition = dict(duration = 0),\n",
    "                    ),\n",
    "                ],\n",
    "            ),\n",
    "        ],\n",
    "\n",
    ")\n",
    "\n"
   ]
  },
  {
   "cell_type": "markdown",
   "metadata": {},
   "source": [
    "Create layout\n"
   ]
  },
  {
   "cell_type": "code",
   "execution_count": 100,
   "metadata": {},
   "outputs": [],
   "source": [
    "layout = dict(\n",
    "\n",
    "    title = \"Terrorist Attacks in the World (1970-2016)\",\n",
    "\n",
    "    # GENERAL LAYOUT\n",
    "    width = 750,\n",
    "    height = 700,\n",
    "    autosize = True,\n",
    "    font = dict(\n",
    "        family = \"Overpass\",\n",
    "        size = 12,\n",
    "        color = \"#000000\",\n",
    "    ),\n",
    "    margin = dict(\n",
    "        t = 50,\n",
    "        l = 50,\n",
    "        b = 50,\n",
    "        r = 50,\n",
    "        pad = 2,\n",
    "    ),\n",
    "    showlegend = False,\n",
    "    hovermode = \"closest\",\n",
    "\n",
    "    # ANIMATIONS\n",
    "    slider = slider,\n",
    "    sliders = [sliders],\n",
    "    updatemenus = [updatemenus],\n",
    "\n",
    "    annotations = [\n",
    "        dict(\n",
    "            text = \"\",\n",
    "            x = 0.01,\n",
    "            y = 0.2,\n",
    "            align = \"left\",\n",
    "            showarrow = False,\n",
    "            xref = \"paper\",\n",
    "            yref = \"paper\",\n",
    "        )\n",
    "    ],\n",
    "\n",
    "    images = [\n",
    "        dict(\n",
    "            source=\"https://www.eecpress.com/wp-content/uploads/2017/12/cartoon-2-840x420.jpg\",\n",
    "            x = 0,\n",
    "            y = 1.05,\n",
    "            sizex = 0.10,\n",
    "            sizey = 0.10,\n",
    "            xref = \"paper\",\n",
    "            yref = \"paper\",\n",
    "            xanchor = \"left\",\n",
    "            yanchor = \"top\"\n",
    "      )\n",
    "    ],\n",
    "\n",
    "    # COLOR THEME\n",
    "    plot_bgcolor = \"#eaf2f2\",\n",
    "    paper_bgcolor = '#fcfcfc',\n",
    "\n",
    "    # MAPBOX\n",
    "    mapbox = dict(\n",
    "#         accesstoken = mapbox_access_token,\n",
    "        center = dict(\n",
    "            lon = 50.38,\n",
    "            lat = 34.16,\n",
    "        ),\n",
    "        zoom = 1.0,\n",
    "#         style = \"dark\",\n",
    "        domain = dict(\n",
    "            x = [0, 1],\n",
    "            y = [0.3, 0.95]\n",
    "        ),\n",
    "    ),\n",
    "\n",
    "    # GEO PLOTS\n",
    "    geo = dict(\n",
    "        projection = dict(\n",
    "            type = \"Miller\",\n",
    "            scale = 1,\n",
    "            #rotation = dict(lat = 0, lon = 0, roll = 0),\n",
    "        ),\n",
    "#         scope = \"usa\",\n",
    "        showframe = False,\n",
    "        resolution = \"100\",\n",
    "#         bgcolor = \"rgba(255, 255, 255, 0.0)\",\n",
    "        showland = True,\n",
    "        showcoastlines = False,\n",
    "#         landcolor = \"rgb(229, 229, 229)\",\n",
    "        \n",
    "        domain = dict(\n",
    "            x = [0.82, 1],\n",
    "            y = [0.20, 0.30]\n",
    "        ),\n",
    "    ),\n",
    "\n",
    "    # AXIS (see current bug above)\n",
    "    xaxis = dict(\n",
    "        range = [min_range_year, max_range_year],\n",
    "        domain = [0, 0.48],\n",
    "        anchor = \"y4\",\n",
    "        title = \"Number of Attacks/ Year\",\n",
    "    ),\n",
    "    yaxis4 = dict(\n",
    "        range = [0, max_range],\n",
    "        domain = [0, 0.22],\n",
    "        anchor = \"x\",\n",
    "    ),\n",
    "\n",
    "    xaxis2 = dict(\n",
    "        range = [min_range_year, max_range_year],\n",
    "        domain = [0.52, 1],\n",
    "        anchor = \"y3\",\n",
    "        title = \"Cumulative Attacks\",\n",
    "    ),\n",
    "    yaxis3 = dict(\n",
    "        range = [0, max_range_cum],\n",
    "        domain = [0, 0.22],\n",
    "        anchor = \"x2\",\n",
    "    ),\n",
    "\n",
    ")"
   ]
  },
  {
   "cell_type": "markdown",
   "metadata": {},
   "source": [
    "Create frames\n"
   ]
  },
  {
   "cell_type": "code",
   "execution_count": 101,
   "metadata": {},
   "outputs": [],
   "source": [
    "frames = []\n",
    "\n",
    "for i, year in enumerate(years):\n",
    "\n",
    "    # Create frame for each subplot\n",
    "    frame_trace1 = dict(\n",
    "        lonsrc = grid.get_column_reference(\"x{}\".format(i + 1)),\n",
    "        latsrc = grid.get_column_reference(\"y{}\".format(i + 1)),\n",
    "        textsrc = grid.get_column_reference(\"text{}\".format(i + 1)),\n",
    "        marker = dict(\n",
    "            sizesrc = grid.get_column_reference(\"size{}\".format(i + 1)),\n",
    "            colorsrc = grid.get_column_reference(\"size{}\".format(i + 1)),\n",
    "        )\n",
    "    )\n",
    "\n",
    "    frame_trace2 = dict(\n",
    "        xsrc = grid2.get_column_reference(\"x{}\".format(i + 1)),\n",
    "        ysrc = grid2.get_column_reference(\"y{}\".format(i + 1)),\n",
    "    )\n",
    "\n",
    "    frame_trace3 = dict(\n",
    "        xsrc = grid2.get_column_reference(\"x{}\".format(i + 1)),\n",
    "        ysrc = grid2.get_column_reference(\"y_cum{}\".format(i + 1)),\n",
    "    )\n",
    "\n",
    "    frame = dict(\n",
    "        data = [frame_trace1, frame_trace2, frame_trace3],\n",
    "        name = year,\n",
    "        traces = [0, 1, 2, 3, 4, 5],\n",
    "    )\n",
    "\n",
    "    frames.append(frame)"
   ]
  },
  {
   "cell_type": "markdown",
   "metadata": {},
   "source": [
    "upload animations"
   ]
  },
  {
   "cell_type": "code",
   "execution_count": 102,
   "metadata": {},
   "outputs": [
    {
     "data": {
      "text/html": [
       "<iframe id=\"igraph\" scrolling=\"no\" style=\"border:none;\" seamless=\"seamless\" src=\"https://plot.ly/~groverpr/39.embed\" height=\"700px\" width=\"750px\"></iframe>"
      ],
      "text/plain": [
       "<plotly.tools.PlotlyDisplay object>"
      ]
     },
     "execution_count": 102,
     "metadata": {},
     "output_type": "execute_result"
    }
   ],
   "source": [
    "data = [trace1, trace2, trace3]\n",
    "figure = dict(data=data, layout=layout, frames=frames)\n",
    "py.icreate_animations(figure, filename=chart_filename, auto_open=False)"
   ]
  },
  {
   "cell_type": "markdown",
   "metadata": {},
   "source": [
    "### End"
   ]
  },
  {
   "cell_type": "code",
   "execution_count": null,
   "metadata": {},
   "outputs": [],
   "source": []
  }
 ],
 "metadata": {
  "kernelspec": {
   "display_name": "Python 3",
   "language": "python",
   "name": "python3"
  },
  "language_info": {
   "codemirror_mode": {
    "name": "ipython",
    "version": 3
   },
   "file_extension": ".py",
   "mimetype": "text/x-python",
   "name": "python",
   "nbconvert_exporter": "python",
   "pygments_lexer": "ipython3",
   "version": "3.6.4"
  },
  "toc": {
   "nav_menu": {},
   "number_sections": true,
   "sideBar": true,
   "skip_h1_title": false,
   "title_cell": "Table of Contents",
   "title_sidebar": "Contents",
   "toc_cell": false,
   "toc_position": {},
   "toc_section_display": true,
   "toc_window_display": false
  }
 },
 "nbformat": 4,
 "nbformat_minor": 2
}
