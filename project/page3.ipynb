{
 "cells": [
  {
   "cell_type": "code",
   "execution_count": 21,
   "metadata": {},
   "outputs": [
    {
     "data": {
      "text/html": [
       "<script>requirejs.config({paths: { 'plotly': ['https://cdn.plot.ly/plotly-latest.min']},});if(!window.Plotly) {{require(['plotly'],function(plotly) {window.Plotly=plotly;});}}</script>"
      ],
      "text/vnd.plotly.v1+html": [
       "<script>requirejs.config({paths: { 'plotly': ['https://cdn.plot.ly/plotly-latest.min']},});if(!window.Plotly) {{require(['plotly'],function(plotly) {window.Plotly=plotly;});}}</script>"
      ]
     },
     "metadata": {},
     "output_type": "display_data"
    }
   ],
   "source": [
    "import pandas as pd\n",
    "import numpy as np\n",
    "import re\n",
    "import string\n",
    "import os\n",
    "from plotly import __version__\n",
    "from plotly.offline import download_plotlyjs, init_notebook_mode, plot, iplot\n",
    "import plotly.plotly as py\n",
    "import plotly.graph_objs as go\n",
    "import pandas as pd\n",
    "from datetime import datetime\n",
    "import matplotlib.pyplot as plt\n",
    "import plotly as ply\n",
    "\n",
    "# import pandas_datareader.data as web\n",
    "init_notebook_mode(connected=True)"
   ]
  },
  {
   "cell_type": "code",
   "execution_count": 22,
   "metadata": {},
   "outputs": [
    {
     "name": "stderr",
     "output_type": "stream",
     "text": [
      "/Users/princegrover/anaconda3/envs/fastai/lib/python3.6/site-packages/IPython/core/interactiveshell.py:2728: DtypeWarning:\n",
      "\n",
      "Columns (4,6,31,33,53,61,62,63,76,79,90,92,94,96,114,115,121) have mixed types. Specify dtype option on import or set low_memory=False.\n",
      "\n"
     ]
    },
    {
     "data": {
      "text/html": [
       "<div>\n",
       "<style scoped>\n",
       "    .dataframe tbody tr th:only-of-type {\n",
       "        vertical-align: middle;\n",
       "    }\n",
       "\n",
       "    .dataframe tbody tr th {\n",
       "        vertical-align: top;\n",
       "    }\n",
       "\n",
       "    .dataframe thead th {\n",
       "        text-align: right;\n",
       "    }\n",
       "</style>\n",
       "<table border=\"1\" class=\"dataframe\">\n",
       "  <thead>\n",
       "    <tr style=\"text-align: right;\">\n",
       "      <th></th>\n",
       "      <th>Year</th>\n",
       "      <th>Month</th>\n",
       "      <th>Day</th>\n",
       "      <th>Country</th>\n",
       "      <th>Region</th>\n",
       "      <th>city</th>\n",
       "      <th>latitude</th>\n",
       "      <th>longitude</th>\n",
       "      <th>AttackType</th>\n",
       "      <th>Killed</th>\n",
       "      <th>Wounded</th>\n",
       "      <th>Target</th>\n",
       "      <th>Summary</th>\n",
       "      <th>Group</th>\n",
       "      <th>Target_type</th>\n",
       "      <th>Weapon_type</th>\n",
       "      <th>Motive</th>\n",
       "      <th>casualities</th>\n",
       "    </tr>\n",
       "  </thead>\n",
       "  <tbody>\n",
       "    <tr>\n",
       "      <th>0</th>\n",
       "      <td>1970</td>\n",
       "      <td>7</td>\n",
       "      <td>2</td>\n",
       "      <td>Dominican Republic</td>\n",
       "      <td>Central America &amp; Caribbean</td>\n",
       "      <td>Santo Domingo</td>\n",
       "      <td>18.456792</td>\n",
       "      <td>-69.951164</td>\n",
       "      <td>Assassination</td>\n",
       "      <td>1.0</td>\n",
       "      <td>0.0</td>\n",
       "      <td>Julio Guzman</td>\n",
       "      <td>NaN</td>\n",
       "      <td>MANO-D</td>\n",
       "      <td>Private Citizens &amp; Property</td>\n",
       "      <td>Unknown</td>\n",
       "      <td>NaN</td>\n",
       "      <td>1.0</td>\n",
       "    </tr>\n",
       "    <tr>\n",
       "      <th>1</th>\n",
       "      <td>1970</td>\n",
       "      <td>0</td>\n",
       "      <td>0</td>\n",
       "      <td>Mexico</td>\n",
       "      <td>North America</td>\n",
       "      <td>Mexico city</td>\n",
       "      <td>19.432608</td>\n",
       "      <td>-99.133207</td>\n",
       "      <td>Hostage Taking (Kidnapping)</td>\n",
       "      <td>0.0</td>\n",
       "      <td>0.0</td>\n",
       "      <td>Nadine Chaval, daughter</td>\n",
       "      <td>NaN</td>\n",
       "      <td>23rd of September Communist League</td>\n",
       "      <td>Government (Diplomatic)</td>\n",
       "      <td>Unknown</td>\n",
       "      <td>NaN</td>\n",
       "      <td>0.0</td>\n",
       "    </tr>\n",
       "    <tr>\n",
       "      <th>2</th>\n",
       "      <td>1970</td>\n",
       "      <td>1</td>\n",
       "      <td>0</td>\n",
       "      <td>Philippines</td>\n",
       "      <td>Southeast Asia</td>\n",
       "      <td>Unknown</td>\n",
       "      <td>15.478598</td>\n",
       "      <td>120.599741</td>\n",
       "      <td>Assassination</td>\n",
       "      <td>1.0</td>\n",
       "      <td>0.0</td>\n",
       "      <td>Employee</td>\n",
       "      <td>NaN</td>\n",
       "      <td>Unknown</td>\n",
       "      <td>Journalists &amp; Media</td>\n",
       "      <td>Unknown</td>\n",
       "      <td>NaN</td>\n",
       "      <td>1.0</td>\n",
       "    </tr>\n",
       "  </tbody>\n",
       "</table>\n",
       "</div>"
      ],
      "text/plain": [
       "   Year  Month  Day             Country                       Region  \\\n",
       "0  1970      7    2  Dominican Republic  Central America & Caribbean   \n",
       "1  1970      0    0              Mexico                North America   \n",
       "2  1970      1    0         Philippines               Southeast Asia   \n",
       "\n",
       "            city   latitude   longitude                   AttackType  Killed  \\\n",
       "0  Santo Domingo  18.456792  -69.951164                Assassination     1.0   \n",
       "1    Mexico city  19.432608  -99.133207  Hostage Taking (Kidnapping)     0.0   \n",
       "2        Unknown  15.478598  120.599741                Assassination     1.0   \n",
       "\n",
       "   Wounded                   Target Summary  \\\n",
       "0      0.0             Julio Guzman     NaN   \n",
       "1      0.0  Nadine Chaval, daughter     NaN   \n",
       "2      0.0                 Employee     NaN   \n",
       "\n",
       "                                Group                  Target_type  \\\n",
       "0                              MANO-D  Private Citizens & Property   \n",
       "1  23rd of September Communist League      Government (Diplomatic)   \n",
       "2                             Unknown          Journalists & Media   \n",
       "\n",
       "  Weapon_type Motive  casualities  \n",
       "0     Unknown    NaN          1.0  \n",
       "1     Unknown    NaN          0.0  \n",
       "2     Unknown    NaN          1.0  "
      ]
     },
     "execution_count": 22,
     "metadata": {},
     "output_type": "execute_result"
    }
   ],
   "source": [
    "terror=pd.read_csv('../../globalterrorismdb_0617dist.csv',encoding='ISO-8859-1')\n",
    "terror.rename(columns={'iyear':'Year','imonth':'Month','iday':'Day','country_txt':'Country','region_txt':'Region','attacktype1_txt':'AttackType','target1':'Target','nkill':'Killed','nwound':'Wounded','summary':'Summary','gname':'Group','targtype1_txt':'Target_type','weaptype1_txt':'Weapon_type','motive':'Motive'},inplace=True)\n",
    "terror=terror[['Year','Month','Day','Country','Region','city','latitude','longitude','AttackType','Killed','Wounded','Target','Summary','Group','Target_type','Weapon_type','Motive']]\n",
    "terror['casualities']=terror['Killed']+terror['Wounded']\n",
    "terror.head(3)"
   ]
  },
  {
   "cell_type": "code",
   "execution_count": 23,
   "metadata": {},
   "outputs": [],
   "source": [
    "top_groups10=terror[terror['Group'].isin(terror['Group'].value_counts()[1:11].index)]\n",
    "df = pd.crosstab(top_groups10.Year,top_groups10.Group)"
   ]
  },
  {
   "cell_type": "code",
   "execution_count": 24,
   "metadata": {},
   "outputs": [],
   "source": [
    "# from bokeh.io import output_file, show\n",
    "# from bokeh.layouts import gridplot\n",
    "# from bokeh.plotting import figure\n",
    "\n",
    "# output_file(\"panning.html\")\n",
    "\n",
    "# top_groups10=terror[terror['Group'].isin(terror['Group'].value_counts()[1:11].index)]\n",
    "# df = pd.crosstab(top_groups10.Year,top_groups10.Group)\n",
    "\n",
    "# # create a new plot\n",
    "# s1 = figure(plot_width=250, plot_height=250, title=None)\n",
    "# s1.line(df.index, df[df.columns[0]],color=\"navy\", alpha=0.5)\n",
    "# s1.line(df.index, df[df.columns[1]],  color=\"firebrick\", alpha=0.5)\n",
    "# s1.line(df.index, df[df.columns[2]], color=\"olive\", alpha=0.5)\n",
    "\n",
    "# # create a new plot and share both ranges\n",
    "# s2 = figure(plot_width=250, plot_height=250, x_range=s1.x_range, y_range=s1.y_range, title=None)\n",
    "# s2.hbar(df[df.columns[0]],0.5,  color=\"olive\", alpha=0.5, right=df.index)\n",
    "\n",
    "\n",
    "# # create a new plot and share only one range\n",
    "# s3 = figure(plot_width=250, plot_height=250, x_range=s1.x_range, title=None)\n",
    "# p = gridplot([[s1, s2]])\n",
    "\n",
    "# # show the results\n",
    "# show(p)"
   ]
  },
  {
   "cell_type": "code",
   "execution_count": 25,
   "metadata": {},
   "outputs": [],
   "source": [
    "top_groups10=terror[terror['Group'].isin(terror['Group'].value_counts()[1:11].index)]\n",
    "df = pd.crosstab(top_groups10.Year,top_groups10.Group)\n",
    "# df.head()"
   ]
  },
  {
   "cell_type": "code",
   "execution_count": 6,
   "metadata": {
    "scrolled": false
   },
   "outputs": [
    {
     "data": {
      "text/html": [
       "<iframe id=\"igraph\" scrolling=\"no\" style=\"border:none;\" seamless=\"seamless\" src=\"https://plot.ly/~groverpr/15.embed\" height=\"400px\" width=\"900px\"></iframe>"
      ],
      "text/plain": [
       "<plotly.tools.PlotlyDisplay object>"
      ]
     },
     "execution_count": 6,
     "metadata": {},
     "output_type": "execute_result"
    }
   ],
   "source": [
    "data = []\n",
    "data1 = []\n",
    "\n",
    "for col in df.columns[0:]:\n",
    "    data.append(go.Scatter(x=df.index.values,\n",
    "                        y=df[col],\n",
    "                        name= col,\n",
    "                        visible=True, hoverinfo = \"none\", hoveron = 'box'))\n",
    "\n",
    "\n",
    "buttons = []\n",
    "\n",
    "for row, city in df.iteritems():\n",
    "    condition = [False]*len(df.columns)\n",
    "    condition[list(df.columns).index(row)] = True    \n",
    "    buttons.append(dict(label = row,\n",
    "                 method = 'update',\n",
    "                 args = [{'visible': condition},\n",
    "                         {'title': 'Activity of Terrorist Groups ' + row,\n",
    "                          }]))\n",
    "\n",
    "updatemenus=list([\n",
    "    dict(\n",
    "        buttons = buttons,\n",
    "        pad = {'r': 0, 't': 10},\n",
    "#         x = 0.1,\n",
    "        xanchor = 'left',\n",
    "#        y = 1.0,\n",
    "        yanchor = 'bottom',\n",
    "        bgcolor = 'FFFFFF',\n",
    "        active = 99,\n",
    "        bordercolor = '#000066',\n",
    "        font = dict(size=11, color='#000000'))])\n",
    "\n",
    "layout = dict(title='Activity of Terrorist Groups ',\n",
    "              showlegend=True,\n",
    "              updatemenus=updatemenus,\n",
    "              width=900,\n",
    "              height=400,  \n",
    "              xaxis=dict(title='Year'), \n",
    "              yaxis=dict(title='Number of Attacks'))\n",
    "\n",
    "figure = dict(data=data, layout=layout)\n",
    "py.iplot( figure, validate=False, filename='page3' )\n",
    "#plotly.offline.plot(figure)\n",
    "# iplot(figure, filename='page3.html')\n",
    "# ply.offline.plot(figure, filename='page3.html')"
   ]
  },
  {
   "cell_type": "code",
   "execution_count": 31,
   "metadata": {},
   "outputs": [],
   "source": [
    "top_groups50=terror[terror['Group'].isin(terror['Group'].value_counts()[:21].index)]\n",
    "df = pd.crosstab(top_groups50.Year,top_groups50.Group)\n",
    "# df.head()"
   ]
  },
  {
   "cell_type": "code",
   "execution_count": 32,
   "metadata": {},
   "outputs": [],
   "source": [
    "df = pd.crosstab(top_groups50.AttackType,top_groups50.Group)\n",
    "# df.head()"
   ]
  },
  {
   "cell_type": "code",
   "execution_count": 50,
   "metadata": {
    "scrolled": false
   },
   "outputs": [
    {
     "data": {
      "text/html": [
       "<iframe id=\"igraph\" scrolling=\"no\" style=\"border:none;\" seamless=\"seamless\" src=\"https://plot.ly/~groverpr/17.embed\" height=\"600px\" width=\"900px\"></iframe>"
      ],
      "text/plain": [
       "<plotly.tools.PlotlyDisplay object>"
      ]
     },
     "execution_count": 50,
     "metadata": {},
     "output_type": "execute_result"
    }
   ],
   "source": [
    "data = []\n",
    "data1 = []\n",
    "for col in df.columns[0:]:\n",
    "    data.append(go.Bar(y=df.index.values,\n",
    "                        x=df[col],\n",
    "                        orientation = 'h',\n",
    "                        name=col,\n",
    "                        visible=True, hoverinfo = 'skip'))\n",
    "    \n",
    "\n",
    "buttons = []\n",
    "\n",
    "for row, city in df.iteritems():\n",
    "    condition = [False]*len(df.columns)\n",
    "    condition[list(df.columns).index(row)] = True    \n",
    "    buttons.append(dict(label = row,\n",
    "                 method = 'update',\n",
    "                 args = [{'visible': condition},\n",
    "                         {'title': 'Attack Types ' + row,\n",
    "                          }]))\n",
    "\n",
    "updatemenus=list([\n",
    "    dict(\n",
    "        buttons = buttons,\n",
    "        pad = {'r':0, 't': 10},\n",
    "        x = 0.1,\n",
    "        xanchor = 'center',\n",
    "       y = 1.0,\n",
    "        yanchor = 'bottom',\n",
    "        bgcolor = 'FFFFFF',\n",
    "        active = 99,\n",
    "        bordercolor = '#000066',\n",
    "        font = dict(size=11, color='#000000'))])\n",
    "\n",
    "layout = dict(title='Attack Types ', \n",
    "              margin = {'l':100 },\n",
    "              showlegend=True, \n",
    "              mirror = True,\n",
    "              updatemenus=updatemenus, \n",
    "              width=900,\n",
    "              height=600,  \n",
    "              xaxis=dict(title='Numbers'), \n",
    "#               yaxis=dict(title='Type of Attack')\n",
    "             )\n",
    "figure = dict(data=data, layout=layout)\n",
    "\n",
    "#plotly.offline.plot(figure)\n",
    "# iplot(figure)\n",
    "py.iplot( figure, validate=False, filename='page3_2' )\n",
    "\n",
    "# ply.offline.plot(figure, filename='page3_2.html')"
   ]
  },
  {
   "cell_type": "code",
   "execution_count": 29,
   "metadata": {},
   "outputs": [],
   "source": [
    "df = pd.crosstab(top_groups50.Country,top_groups50.Group)\n",
    "# df.head()"
   ]
  },
  {
   "cell_type": "code",
   "execution_count": 51,
   "metadata": {
    "scrolled": false
   },
   "outputs": [
    {
     "data": {
      "text/html": [
       "<iframe id=\"igraph\" scrolling=\"no\" style=\"border:none;\" seamless=\"seamless\" src=\"https://plot.ly/~groverpr/19.embed\" height=\"600px\" width=\"900px\"></iframe>"
      ],
      "text/plain": [
       "<plotly.tools.PlotlyDisplay object>"
      ]
     },
     "execution_count": 51,
     "metadata": {},
     "output_type": "execute_result"
    }
   ],
   "source": [
    "data = []\n",
    "data1 = []\n",
    "for col in df.columns[0:]:\n",
    "    data.append(go.Bar(y=df.index.values,\n",
    "                        x=df[col],\n",
    "                       orientation='h',\n",
    "                        name=col,\n",
    "                        visible=True, hoverinfo = 'skip'))\n",
    "    \n",
    "\n",
    "buttons = []\n",
    "\n",
    "for row, city in df.iteritems():\n",
    "    condition = [False]*len(df.columns)\n",
    "    condition[list(df.columns).index(row)] = True    \n",
    "    buttons.append(dict(label = row,\n",
    "                 method = 'update',\n",
    "                 args = [{'visible': condition},\n",
    "                         {'title': 'Attacks by Country ' + row,\n",
    "                          }]))\n",
    "\n",
    "updatemenus=list([\n",
    "    dict(\n",
    "        buttons = buttons,\n",
    "        pad = {'r': 0, 't': 10},\n",
    "#         x = 0.1,\n",
    "        xanchor = 'left',\n",
    "#        y = 1.0,\n",
    "        yanchor = 'bottom',\n",
    "        bgcolor = 'FFFFFF',\n",
    "        active = 99,\n",
    "        bordercolor = '#000066',\n",
    "        font = dict(size=11, color='#000000'))])\n",
    "\n",
    "layout = dict(title='Attacks by Country ', \n",
    "              showlegend=True, updatemenus=updatemenus,\n",
    "              width=900,\n",
    "              height=600,\n",
    "              xaxis=dict(title='Numbers'), \n",
    "#               yaxis=dict(title='Country')\n",
    "             )\n",
    "\n",
    "figure = dict(data=data, layout=layout)\n",
    "\n",
    "#plotly.offline.plot(figure)\n",
    "# iplot(figure)\n",
    "# ply.offline.plot(figure, filename='page3_3.html')\n",
    "py.iplot( figure, validate=False, filename='page3_3' )\n"
   ]
  },
  {
   "cell_type": "code",
   "execution_count": 14,
   "metadata": {},
   "outputs": [
    {
     "data": {
      "image/png": "[encoded data removed]",
      "text/plain": [
       "<matplotlib.figure.Figure at 0x1177532b0>"
      ]
     },
     "metadata": {},
     "output_type": "display_data"
    }
   ],
   "source": [
    "coun_terror=terror['Country'].value_counts()[:15].to_frame()\n",
    "coun_terror.columns=['Attacks']\n",
    "coun_kill=terror.groupby('Country')['Killed'].sum().to_frame()\n",
    "coun_terror.merge(coun_kill,left_index=True,right_index=True,how='left').plot.bar(width=0.9)\n",
    "fig=plt.gcf()\n",
    "fig.set_size_inches(18,6)\n",
    "plt.show()"
   ]
  },
  {
   "cell_type": "code",
   "execution_count": null,
   "metadata": {},
   "outputs": [],
   "source": []
  }
 ],
 "metadata": {
  "kernelspec": {
   "display_name": "Python 3",
   "language": "python",
   "name": "python3"
  },
  "language_info": {
   "codemirror_mode": {
    "name": "ipython",
    "version": 3
   },
   "file_extension": ".py",
   "mimetype": "text/x-python",
   "name": "python",
   "nbconvert_exporter": "python",
   "pygments_lexer": "ipython3",
   "version": "3.6.4"
  },
  "toc": {
   "nav_menu": {},
   "number_sections": true,
   "sideBar": true,
   "skip_h1_title": false,
   "title_cell": "Table of Contents",
   "title_sidebar": "Contents",
   "toc_cell": false,
   "toc_position": {},
   "toc_section_display": true,
   "toc_window_display": false
  }
 },
 "nbformat": 4,
 "nbformat_minor": 2
}
